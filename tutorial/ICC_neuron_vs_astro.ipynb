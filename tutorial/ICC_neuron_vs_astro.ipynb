{
 "cells": [
  {
   "cell_type": "code",
   "execution_count": 1,
   "metadata": {
    "collapsed": true
   },
   "outputs": [],
   "source": [
    "import pandas as pd\n",
    "import os\n",
    "import xml.etree.ElementTree as ET\n",
    "import matplotlib.pyplot as plt\n",
    "import sys\n",
    "import numpy as np\n",
    "import ipywidgets as widgets\n",
    "from ipywidgets import Box, IntSlider\n",
    "import seaborn as sns"
   ]
  },
  {
   "cell_type": "code",
   "execution_count": 2,
   "metadata": {},
   "outputs": [
    {
     "name": "stdout",
     "output_type": "stream",
     "text": [
      "\n",
      "    ========================\n",
      "          SPIKE\n",
      "    ========================\n",
      "    Version     : 0.99.30\n",
      "    Date        : 22-03-2022\n",
      "    Revision Id : 563\n",
      "    ========================\n",
      "*** zoom3D not loaded ***\n",
      "plugins loaded:\n",
      "Fitter,  Linear_prediction,  Peaks,  bcorr,  fastclean,  gaussenh,  rem_ridge,  sane,  sg,  test,  urQRd, \n",
      "\n",
      "spike.plugins.report() for a short description of each plugins\n",
      "spike.plugins.report('module_name') for complete documentation on one plugin\n",
      "plugins loaded:\n",
      "FTMS_calib,  PhaseMS,  diagonal_2DMS, \n"
     ]
    }
   ],
   "source": [
    "sys.path.append('../scms_py')\n",
    "from scMSData import scMSData\n",
    "from analysis import scMSAnalysis\n",
    "from model import scMSModel"
   ]
  },
  {
   "cell_type": "code",
   "execution_count": 3,
   "metadata": {},
   "outputs": [
    {
     "name": "stderr",
     "output_type": "stream",
     "text": [
      "100%|█████████████████████████████████████| 1522/1522 [00:00<00:00, 1706.82it/s]\n"
     ]
    }
   ],
   "source": [
    "scms = scMSData()\n",
    "path = 'ICC_use/xmls/'\n",
    "file_paths = scms.getXMLPath(path)\n",
    "scms.loadXMLData_tof(detailed=True)"
   ]
  },
  {
   "cell_type": "code",
   "execution_count": 14,
   "metadata": {},
   "outputs": [
    {
     "name": "stderr",
     "output_type": "stream",
     "text": [
      "100%|███████████████████████████████████████| 2398/2398 [01:23<00:00, 28.57it/s]\n"
     ]
    }
   ],
   "source": [
    "scms_icr = scMSData()\n",
    "path = '20210825_AstroNeuron_and_Unfixed/Stained'\n",
    "file_paths = scms_icr.getXMLPath(path)\n",
    "scms_icr.loadXMLData(detailed=True)"
   ]
  },
  {
   "cell_type": "code",
   "execution_count": 64,
   "metadata": {
    "collapsed": true
   },
   "outputs": [],
   "source": [
    "pk_count_icr = []\n",
    "snr_icr = []\n",
    "res_icr = []\n",
    "mz_icr = []\n",
    "for idx in list(scms_icr.peak_list.keys())[:500]:\n",
    "    snr = scms_icr.peak_list[idx]['snr']\n",
    "    pk_count_icr.append(scms_icr.peak_list[idx]['intensity'][snr>5].shape[0])\n",
    "    mz_icr+=list(scms_icr.peak_list[idx]['mzs'][snr>5])\n",
    "    snr_icr+=list(scms_icr.peak_list[idx]['snr'][snr>5])\n",
    "    res_icr+=list(scms_icr.peak_list[idx]['res'][snr>5])"
   ]
  },
  {
   "cell_type": "code",
   "execution_count": 76,
   "metadata": {},
   "outputs": [
    {
     "data": {
      "text/plain": [
       "array([500.037503, 500.323055, 501.045583, ..., 990.76174 , 991.758979,\n",
       "       994.738178])"
      ]
     },
     "execution_count": 76,
     "metadata": {},
     "output_type": "execute_result"
    }
   ],
   "source": [
    "np.array(mz_icr)[(np.array(mz_icr)>500)&(np.array(mz_icr)<1000)]"
   ]
  },
  {
   "cell_type": "code",
   "execution_count": 114,
   "metadata": {},
   "outputs": [
    {
     "data": {
      "image/png": "[encoded data removed]",
      "text/plain": [
       "<Figure size 576x360 with 1 Axes>"
      ]
     },
     "metadata": {
      "needs_background": "light"
     },
     "output_type": "display_data"
    },
    {
     "data": {
      "image/png": "[encoded data removed]",
      "text/plain": [
       "<Figure size 576x360 with 1 Axes>"
      ]
     },
     "metadata": {
      "needs_background": "light"
     },
     "output_type": "display_data"
    }
   ],
   "source": [
    "sns.displot(np.array(mz_icr)[(np.array(mz_icr)>500)&(np.array(mz_icr)<1000)],aspect=1.6)\n",
    "plt.savefig('figures/icr_hist.pdf')\n",
    "sns.displot(mz_tof,bins=70,aspect=1.6)\n",
    "plt.savefig('figures/tof_hist.pdf')"
   ]
  },
  {
   "cell_type": "code",
   "execution_count": 68,
   "metadata": {
    "collapsed": true
   },
   "outputs": [],
   "source": [
    "pk_count_tof = []\n",
    "snr_tof = []\n",
    "res_tof = []\n",
    "mz_tof = []\n",
    "for idx in df[df['type']=='Neurons'].index[:500]:\n",
    "    if idx in scms.peak_list.keys():\n",
    "        snr = scms.peak_list[idx]['snr']\n",
    "        pk_count_tof.append(scms.peak_list[idx]['intensity'][snr>5].shape[0])\n",
    "        mz_tof+=list(scms.peak_list[idx]['mzs'][snr>5])\n",
    "        snr_tof+=list(scms.peak_list[idx]['snr'][snr>5])\n",
    "        res_tof+=list(scms.peak_list[idx]['res'][snr>5])"
   ]
  },
  {
   "cell_type": "code",
   "execution_count": 115,
   "metadata": {},
   "outputs": [
    {
     "data": {
      "image/png": "[encoded data removed]",
      "text/plain": [
       "<Figure size 216x360 with 1 Axes>"
      ]
     },
     "metadata": {
      "needs_background": "light"
     },
     "output_type": "display_data"
    }
   ],
   "source": [
    "plt.figure(figsize=(3,5))\n",
    "plt.boxplot([np.log10(pk_count),np.log10(pk_count_icr)],labels=['TOF','FTICR'],widths=0.5)\n",
    "plt.savefig('figures/pk_count.pdf')"
   ]
  },
  {
   "cell_type": "code",
   "execution_count": 116,
   "metadata": {},
   "outputs": [
    {
     "data": {
      "image/png": "[encoded data removed]",
      "text/plain": [
       "<Figure size 216x360 with 1 Axes>"
      ]
     },
     "metadata": {
      "needs_background": "light"
     },
     "output_type": "display_data"
    }
   ],
   "source": [
    "plt.figure(figsize=(3,5))\n",
    "plt.boxplot([np.log10(res_tof),np.log10(res_icr)],labels=['TOF','FTICR'],widths=0.5)\n",
    "plt.savefig('figures/res_count.pdf')"
   ]
  },
  {
   "cell_type": "code",
   "execution_count": 103,
   "metadata": {},
   "outputs": [
    {
     "data": {
      "image/png": "[encoded data removed]",
      "text/plain": [
       "<Figure size 432x288 with 1 Axes>"
      ]
     },
     "metadata": {
      "needs_background": "light"
     },
     "output_type": "display_data"
    }
   ],
   "source": [
    "plt.plot(df.drop('type',axis=1).columns,df.drop('type',axis=1).mean(0)/df.drop('type',axis=1).mean(0).max(),label='TOF')\n",
    "plt.plot(scms_icr.intens_mtx.columns,scms_icr.intens_mtx.mean(0)/scms_icr.intens_mtx.mean(0).max(),label='ICR')\n",
    "plt.legend()\n",
    "plt.savefig('figures/tof_icr_spectra.pdf')"
   ]
  },
  {
   "cell_type": "code",
   "execution_count": 91,
   "metadata": {},
   "outputs": [
    {
     "name": "stdout",
     "output_type": "stream",
     "text": [
      "TODO: convert indices into real world coordinates\n",
      "loaded spectra\n",
      "file loaded\n",
      "number of mass bins 69317\n"
     ]
    },
    {
     "name": "stderr",
     "output_type": "stream",
     "text": [
      "100%|██████████████████████████████████| 69317/69317 [00:03<00:00, 19136.41it/s]\n"
     ]
    }
   ],
   "source": [
    "scms_icr.loadimzMLData('20210825_AstroNeuron_and_Unfixed/Stained.imzML')\n",
    "scms_icr.getIntensMtxData(ppm=5, feature_n=0.1, mz_range=(500,1000))"
   ]
  },
  {
   "cell_type": "code",
   "execution_count": 9,
   "metadata": {
    "collapsed": true
   },
   "outputs": [],
   "source": [
    "df = pd.read_pickle('ICC_use/ICC_rms.pkl')"
   ]
  },
  {
   "cell_type": "code",
   "execution_count": 5,
   "metadata": {},
   "outputs": [
    {
     "data": {
      "text/plain": [
       "<AxesSubplot:xlabel='type', ylabel='count'>"
      ]
     },
     "execution_count": 5,
     "metadata": {},
     "output_type": "execute_result"
    },
    {
     "data": {
      "image/png": "[encoded data removed]",
      "text/plain": [
       "<Figure size 216x288 with 1 Axes>"
      ]
     },
     "metadata": {
      "needs_background": "light"
     },
     "output_type": "display_data"
    }
   ],
   "source": [
    "plt.figure(figsize=(3,4))\n",
    "sns.countplot(x = 'type', data=df)"
   ]
  },
  {
   "cell_type": "code",
   "execution_count": 8,
   "metadata": {},
   "outputs": [
    {
     "name": "stderr",
     "output_type": "stream",
     "text": [
      "In a future version of pandas all arguments of DataFrame.drop except for the argument 'labels' will be keyword-only\n"
     ]
    }
   ],
   "source": [
    "scmodel = scMSModel(data,metadata)\n",
    "scmodel.get_labels(['type'])"
   ]
  },
  {
   "cell_type": "code",
   "execution_count": 3,
   "metadata": {
    "collapsed": true
   },
   "outputs": [],
   "source": [
    "scmodel = scMSModel(data,metadata)\n",
    "\n",
    "nn_kwargs = {'layer_shapes':[128,64,1]}\n",
    "scmodel.train_models(k=5, cv=True, shap=True,\n",
    "                     model_names=['LR','LDA','SVM','GBT','RF','DNN'],\n",
    "                     label_name='type',kwargs=nn_kwargs)"
   ]
  },
  {
   "cell_type": "code",
   "execution_count": null,
   "metadata": {
    "collapsed": true
   },
   "outputs": [],
   "source": [
    "scmodel.feature_selection(n_eliminate=10, model_name='DNN',\n",
    "                          kwargs=train_params, max_feat=310,\n",
    "                          min_feat=10)"
   ]
  },
  {
   "cell_type": "code",
   "execution_count": null,
   "metadata": {
    "collapsed": true
   },
   "outputs": [],
   "source": [
    "f1 = []\n",
    "model_names = []\n",
    "for key in scmodel.test_metrics.keys():\n",
    "    f1+=[metric['f1'] for metric in scmodel.test_metrics[key]]\n",
    "    model_names+=[key for metric in scmodel.test_metrics[key]]\n",
    "cv_df = pd.DataFrame({'f1':f1,'model':model_names})"
   ]
  },
  {
   "cell_type": "code",
   "execution_count": null,
   "metadata": {},
   "outputs": [
    {
     "data": {
      "image/png": "[encoded data removed]",
      "text/plain": [
       "<Figure size 432x288 with 1 Axes>"
      ]
     },
     "metadata": {
      "needs_background": "light"
     },
     "output_type": "display_data"
    }
   ],
   "source": [
    "plt.figure()\n",
    "ax = sns.boxplot(x='model',y='f1',data=cv_df,fliersize=0, whis = 100, linewidth=1.3)\n",
    "sns.stripplot(x='model',y='f1',data=cv_df,\n",
    "              size=6, color=\".3\", linewidth=0)\n",
    "for i,box in enumerate(ax.artists):\n",
    "    box.set_edgecolor('black')\n",
    "    box.set_facecolor('white')\n",
    "plt.show()"
   ]
  },
  {
   "cell_type": "code",
   "execution_count": 11,
   "metadata": {},
   "outputs": [
    {
     "name": "stdout",
     "output_type": "stream",
     "text": [
      "performing 5 fold cross validation for DNN\n",
      "cross validation 0...\n",
      "cross validation 1...\n",
      "cross validation 2...\n",
      "cross validation 3...\n",
      "cross validation 4...\n",
      "now testing 300 features..\n",
      "performing 5 fold cross validation for DNN\n",
      "cross validation 0...\n",
      "cross validation 1...\n",
      "cross validation 2...\n",
      "cross validation 3...\n",
      "cross validation 4...\n",
      "now testing 290 features..\n",
      "performing 5 fold cross validation for DNN\n",
      "cross validation 0...\n",
      "cross validation 1...\n",
      "cross validation 2...\n",
      "cross validation 3...\n",
      "cross validation 4...\n",
      "now testing 280 features..\n",
      "performing 5 fold cross validation for DNN\n",
      "cross validation 0...\n",
      "cross validation 1...\n",
      "cross validation 2...\n",
      "cross validation 3...\n",
      "cross validation 4...\n",
      "now testing 270 features..\n",
      "performing 5 fold cross validation for DNN\n",
      "cross validation 0...\n",
      "cross validation 1...\n",
      "cross validation 2...\n",
      "cross validation 3...\n",
      "cross validation 4...\n",
      "now testing 260 features..\n",
      "performing 5 fold cross validation for DNN\n",
      "cross validation 0...\n",
      "cross validation 1...\n",
      "cross validation 2...\n",
      "cross validation 3...\n",
      "cross validation 4...\n",
      "now testing 250 features..\n",
      "performing 5 fold cross validation for DNN\n",
      "cross validation 0...\n",
      "cross validation 1...\n",
      "cross validation 2...\n",
      "cross validation 3...\n",
      "cross validation 4...\n",
      "now testing 240 features..\n",
      "performing 5 fold cross validation for DNN\n",
      "cross validation 0...\n",
      "cross validation 1...\n",
      "cross validation 2...\n",
      "cross validation 3...\n",
      "cross validation 4...\n",
      "now testing 230 features..\n",
      "performing 5 fold cross validation for DNN\n",
      "cross validation 0...\n",
      "cross validation 1...\n",
      "cross validation 2...\n",
      "cross validation 3...\n",
      "cross validation 4...\n",
      "now testing 220 features..\n",
      "performing 5 fold cross validation for DNN\n",
      "cross validation 0...\n",
      "cross validation 1...\n",
      "cross validation 2...\n",
      "cross validation 3...\n",
      "cross validation 4...\n",
      "now testing 210 features..\n",
      "performing 5 fold cross validation for DNN\n",
      "cross validation 0...\n",
      "cross validation 1...\n",
      "cross validation 2...\n",
      "cross validation 3...\n",
      "cross validation 4...\n",
      "now testing 200 features..\n",
      "performing 5 fold cross validation for DNN\n",
      "cross validation 0...\n",
      "cross validation 1...\n",
      "cross validation 2...\n",
      "cross validation 3...\n",
      "cross validation 4...\n",
      "now testing 190 features..\n",
      "performing 5 fold cross validation for DNN\n",
      "cross validation 0...\n",
      "cross validation 1...\n",
      "cross validation 2...\n",
      "cross validation 3...\n",
      "cross validation 4...\n",
      "now testing 180 features..\n",
      "performing 5 fold cross validation for DNN\n",
      "cross validation 0...\n",
      "cross validation 1...\n",
      "cross validation 2...\n",
      "cross validation 3...\n",
      "cross validation 4...\n",
      "now testing 170 features..\n",
      "performing 5 fold cross validation for DNN\n",
      "cross validation 0...\n",
      "cross validation 1...\n",
      "cross validation 2...\n",
      "cross validation 3...\n",
      "cross validation 4...\n",
      "now testing 160 features..\n",
      "performing 5 fold cross validation for DNN\n",
      "cross validation 0...\n",
      "cross validation 1...\n",
      "cross validation 2...\n",
      "cross validation 3...\n",
      "cross validation 4...\n",
      "now testing 150 features..\n",
      "performing 5 fold cross validation for DNN\n",
      "cross validation 0...\n",
      "cross validation 1...\n",
      "cross validation 2...\n",
      "cross validation 3...\n",
      "cross validation 4...\n",
      "now testing 140 features..\n",
      "performing 5 fold cross validation for DNN\n",
      "cross validation 0...\n",
      "cross validation 1...\n",
      "cross validation 2...\n",
      "cross validation 3...\n",
      "cross validation 4...\n",
      "now testing 130 features..\n",
      "performing 5 fold cross validation for DNN\n",
      "cross validation 0...\n",
      "cross validation 1...\n",
      "cross validation 2...\n",
      "cross validation 3...\n",
      "cross validation 4...\n",
      "now testing 120 features..\n",
      "performing 5 fold cross validation for DNN\n",
      "cross validation 0...\n",
      "cross validation 1...\n",
      "cross validation 2...\n",
      "cross validation 3...\n",
      "cross validation 4...\n",
      "now testing 110 features..\n",
      "performing 5 fold cross validation for DNN\n",
      "cross validation 0...\n",
      "cross validation 1...\n",
      "cross validation 2...\n",
      "cross validation 3...\n",
      "cross validation 4...\n",
      "now testing 100 features..\n",
      "performing 5 fold cross validation for DNN\n",
      "cross validation 0...\n",
      "cross validation 1...\n",
      "cross validation 2...\n",
      "cross validation 3...\n",
      "cross validation 4...\n",
      "now testing 90 features..\n",
      "performing 5 fold cross validation for DNN\n",
      "cross validation 0...\n",
      "cross validation 1...\n",
      "cross validation 2...\n",
      "cross validation 3...\n",
      "cross validation 4...\n",
      "now testing 80 features..\n",
      "performing 5 fold cross validation for DNN\n",
      "cross validation 0...\n",
      "cross validation 1...\n",
      "cross validation 2...\n",
      "cross validation 3...\n",
      "cross validation 4...\n",
      "now testing 70 features..\n",
      "performing 5 fold cross validation for DNN\n",
      "cross validation 0...\n",
      "cross validation 1...\n",
      "cross validation 2...\n",
      "cross validation 3...\n",
      "cross validation 4...\n",
      "now testing 60 features..\n",
      "performing 5 fold cross validation for DNN\n",
      "cross validation 0...\n",
      "cross validation 1...\n",
      "cross validation 2...\n",
      "cross validation 3...\n",
      "cross validation 4...\n",
      "now testing 50 features..\n",
      "performing 5 fold cross validation for DNN\n",
      "cross validation 0...\n",
      "cross validation 1...\n",
      "cross validation 2...\n",
      "cross validation 3...\n",
      "cross validation 4...\n",
      "now testing 40 features..\n",
      "performing 5 fold cross validation for DNN\n",
      "cross validation 0...\n",
      "cross validation 1...\n",
      "cross validation 2...\n",
      "cross validation 3...\n",
      "cross validation 4...\n",
      "now testing 30 features..\n",
      "performing 5 fold cross validation for DNN\n",
      "cross validation 0...\n",
      "cross validation 1...\n",
      "cross validation 2...\n",
      "cross validation 3...\n",
      "cross validation 4...\n",
      "now testing 20 features..\n",
      "performing 5 fold cross validation for DNN\n",
      "cross validation 0...\n",
      "cross validation 1...\n",
      "cross validation 2...\n",
      "cross validation 3...\n",
      "cross validation 4...\n",
      "now testing 10 features..\n",
      "performing 5 fold cross validation for DNN\n",
      "cross validation 0...\n",
      "cross validation 1...\n",
      "cross validation 2...\n",
      "cross validation 3...\n",
      "cross validation 4...\n"
     ]
    }
   ],
   "source": [
    "train_params={'k':5, 'cv':True, 'shap':True, 'model_names':['DNN'], 'label_name':'type',\n",
    "              'kwargs':nn_kwargs}\n",
    "scmodel.feature_selection(n_eliminate=10, model_name='DNN',\n",
    "                          kwargs=train_params, max_feat=310,\n",
    "                          min_feat=10)"
   ]
  },
  {
   "cell_type": "code",
   "execution_count": 12,
   "metadata": {},
   "outputs": [
    {
     "data": {
      "image/png": "[encoded data removed]",
      "text/plain": [
       "<Figure size 432x288 with 1 Axes>"
      ]
     },
     "metadata": {
      "needs_background": "light"
     },
     "output_type": "display_data"
    }
   ],
   "source": [
    "mean_f1 = []\n",
    "std_f1 = []\n",
    "for i in range(len(scmodel.feature_retain_metric)-1):\n",
    "    mean_f1.append(np.mean([metric['f1'] for metric in scmodel.feature_retain_metric[i+1]['DNN']]))\n",
    "    std_f1.append(np.std([metric['f1'] for metric in scmodel.feature_retain_metric[i+1]['DNN']]))\n",
    "    \n",
    "num_feat = [len(feat) for feat in scmodel.feature_retain[1:]]\n",
    "mean_f1 = np.array(mean_f1)\n",
    "std_f1 = np.array(std_f1)\n",
    "\n",
    "fig,axes = plt.subplots(1,1,figsize=(6,4))\n",
    "#std = np.array([np.std(snr) for snr in SNR])\n",
    "plt.plot(num_feat,mean_f1)\n",
    "plt.fill_between(num_feat, mean_f1-std_f1, mean_f1+std_f1,alpha=0.2)\n",
    "plt.xlabel('number of features')\n",
    "plt.ylabel('f1 score')\n",
    "axes.spines['right'].set_visible(False)\n",
    "axes.spines['top'].set_visible(False)\n",
    "plt.gca().invert_xaxis()"
   ]
  },
  {
   "cell_type": "code",
   "execution_count": 13,
   "metadata": {
    "collapsed": true
   },
   "outputs": [],
   "source": [
    "fig.savefig('figures/feat_select_icc.pdf')"
   ]
  },
  {
   "cell_type": "code",
   "execution_count": 8,
   "metadata": {
    "collapsed": true
   },
   "outputs": [],
   "source": [
    "from sklearn.model_selection import train_test_split\n",
    "train_names = list(set(scmodel.names) - set(scmodel.cv_test[0]))\n",
    "X_train = scmodel.intens_mtx.loc[train_names].values\n",
    "X_test = scmodel.intens_mtx.loc[scmodel.cv_test[0]].values\n",
    "y_train = scmodel.metadata.loc[train_names]['type_int'].values\n",
    "y_test = scmodel.metadata.loc[scmodel.cv_test[0]]['type_int'].values"
   ]
  },
  {
   "cell_type": "code",
   "execution_count": 60,
   "metadata": {
    "collapsed": true
   },
   "outputs": [],
   "source": [
    "from sklearn.metrics import confusion_matrix, accuracy_score, roc_curve, auc, f1_score\n",
    "from sklearn.utils import shuffle"
   ]
  },
  {
   "cell_type": "code",
   "execution_count": 67,
   "metadata": {
    "collapsed": true
   },
   "outputs": [],
   "source": [
    "p,pred = scmodel.predict_DNN(X_test)\n",
    "fpr_nn, tpr_nn, _ = roc_curve(y_test, p)"
   ]
  },
  {
   "cell_type": "code",
   "execution_count": 68,
   "metadata": {},
   "outputs": [
    {
     "data": {
      "image/png": "[encoded data removed]",
      "text/plain": [
       "<Figure size 432x288 with 1 Axes>"
      ]
     },
     "metadata": {
      "needs_background": "light"
     },
     "output_type": "display_data"
    }
   ],
   "source": [
    "plt.figure()\n",
    "plt.plot(fpr_lda,tpr_lda,label='lda')\n",
    "plt.plot(fpr_lr,tpr_lr,label='lr')\n",
    "plt.plot(fpr_svm,tpr_svm,label='svm')\n",
    "plt.plot(fpr_gbt,tpr_gbt,label='gbt')\n",
    "plt.plot(fpr_nn,tpr_nn,label='nn')\n",
    "\n",
    "plt.legend()\n",
    "plt.show()"
   ]
  },
  {
   "cell_type": "code",
   "execution_count": 21,
   "metadata": {},
   "outputs": [
    {
     "name": "stderr",
     "output_type": "stream",
     "text": [
      " 98%|===================| 757/772 [00:26<00:00]        "
     ]
    }
   ],
   "source": [
    "shap_vals = scmodel.get_shap_vals(X_train,X_test,'RF')"
   ]
  },
  {
   "cell_type": "code",
   "execution_count": 21,
   "metadata": {},
   "outputs": [
    {
     "data": {
      "text/html": [
       "<div>\n",
       "<style scoped>\n",
       "    .dataframe tbody tr th:only-of-type {\n",
       "        vertical-align: middle;\n",
       "    }\n",
       "\n",
       "    .dataframe tbody tr th {\n",
       "        vertical-align: top;\n",
       "    }\n",
       "\n",
       "    .dataframe thead th {\n",
       "        text-align: right;\n",
       "    }\n",
       "</style>\n",
       "<table border=\"1\" class=\"dataframe\">\n",
       "  <thead>\n",
       "    <tr style=\"text-align: right;\">\n",
       "      <th></th>\n",
       "      <th>510.28</th>\n",
       "      <th>511.32</th>\n",
       "      <th>512.29</th>\n",
       "      <th>513.32</th>\n",
       "      <th>514.32</th>\n",
       "      <th>515.32</th>\n",
       "      <th>517.29</th>\n",
       "      <th>518.35</th>\n",
       "      <th>519.30</th>\n",
       "      <th>520.29</th>\n",
       "      <th>...</th>\n",
       "      <th>987.62</th>\n",
       "      <th>988.63</th>\n",
       "      <th>989.68</th>\n",
       "      <th>990.60</th>\n",
       "      <th>991.74</th>\n",
       "      <th>992.72</th>\n",
       "      <th>993.59</th>\n",
       "      <th>994.54</th>\n",
       "      <th>995.53</th>\n",
       "      <th>997.63</th>\n",
       "    </tr>\n",
       "  </thead>\n",
       "  <tbody>\n",
       "    <tr>\n",
       "      <th>x_10412y_16754</th>\n",
       "      <td>0.0</td>\n",
       "      <td>0.514763</td>\n",
       "      <td>0.360081</td>\n",
       "      <td>0.697731</td>\n",
       "      <td>0.174104</td>\n",
       "      <td>0.000000</td>\n",
       "      <td>0.000000</td>\n",
       "      <td>1.562168</td>\n",
       "      <td>0.255871</td>\n",
       "      <td>0.000000</td>\n",
       "      <td>...</td>\n",
       "      <td>0.0</td>\n",
       "      <td>0.0</td>\n",
       "      <td>0.0</td>\n",
       "      <td>0.0</td>\n",
       "      <td>0.000000</td>\n",
       "      <td>0.000000</td>\n",
       "      <td>0.0</td>\n",
       "      <td>0.0</td>\n",
       "      <td>0.0</td>\n",
       "      <td>0.000000</td>\n",
       "    </tr>\n",
       "    <tr>\n",
       "      <th>x_11953y_16755</th>\n",
       "      <td>0.0</td>\n",
       "      <td>1.216098</td>\n",
       "      <td>0.962318</td>\n",
       "      <td>1.209912</td>\n",
       "      <td>0.282644</td>\n",
       "      <td>0.238123</td>\n",
       "      <td>0.000000</td>\n",
       "      <td>1.277035</td>\n",
       "      <td>0.336079</td>\n",
       "      <td>0.000000</td>\n",
       "      <td>...</td>\n",
       "      <td>0.0</td>\n",
       "      <td>0.0</td>\n",
       "      <td>0.0</td>\n",
       "      <td>0.0</td>\n",
       "      <td>0.000000</td>\n",
       "      <td>0.000000</td>\n",
       "      <td>0.0</td>\n",
       "      <td>0.0</td>\n",
       "      <td>0.0</td>\n",
       "      <td>0.000000</td>\n",
       "    </tr>\n",
       "    <tr>\n",
       "      <th>x_12154y_17714</th>\n",
       "      <td>0.0</td>\n",
       "      <td>0.646368</td>\n",
       "      <td>0.481581</td>\n",
       "      <td>1.278379</td>\n",
       "      <td>0.327409</td>\n",
       "      <td>0.187171</td>\n",
       "      <td>0.000000</td>\n",
       "      <td>3.152753</td>\n",
       "      <td>0.646713</td>\n",
       "      <td>0.125125</td>\n",
       "      <td>...</td>\n",
       "      <td>0.0</td>\n",
       "      <td>0.0</td>\n",
       "      <td>0.0</td>\n",
       "      <td>0.0</td>\n",
       "      <td>0.000000</td>\n",
       "      <td>0.000000</td>\n",
       "      <td>0.0</td>\n",
       "      <td>0.0</td>\n",
       "      <td>0.0</td>\n",
       "      <td>0.000000</td>\n",
       "    </tr>\n",
       "    <tr>\n",
       "      <th>x_12360y_17254</th>\n",
       "      <td>0.0</td>\n",
       "      <td>1.180529</td>\n",
       "      <td>0.652149</td>\n",
       "      <td>2.189925</td>\n",
       "      <td>0.467382</td>\n",
       "      <td>0.200060</td>\n",
       "      <td>0.128717</td>\n",
       "      <td>2.244439</td>\n",
       "      <td>0.500761</td>\n",
       "      <td>0.000000</td>\n",
       "      <td>...</td>\n",
       "      <td>0.0</td>\n",
       "      <td>0.0</td>\n",
       "      <td>0.0</td>\n",
       "      <td>0.0</td>\n",
       "      <td>0.000000</td>\n",
       "      <td>0.000000</td>\n",
       "      <td>0.0</td>\n",
       "      <td>0.0</td>\n",
       "      <td>0.0</td>\n",
       "      <td>0.000000</td>\n",
       "    </tr>\n",
       "    <tr>\n",
       "      <th>x_14022y_18082</th>\n",
       "      <td>0.0</td>\n",
       "      <td>3.058327</td>\n",
       "      <td>2.101446</td>\n",
       "      <td>5.624392</td>\n",
       "      <td>1.406737</td>\n",
       "      <td>1.047677</td>\n",
       "      <td>0.499547</td>\n",
       "      <td>2.825733</td>\n",
       "      <td>1.300733</td>\n",
       "      <td>0.483882</td>\n",
       "      <td>...</td>\n",
       "      <td>0.0</td>\n",
       "      <td>0.0</td>\n",
       "      <td>0.0</td>\n",
       "      <td>0.0</td>\n",
       "      <td>0.000000</td>\n",
       "      <td>0.000000</td>\n",
       "      <td>0.0</td>\n",
       "      <td>0.0</td>\n",
       "      <td>0.0</td>\n",
       "      <td>0.000000</td>\n",
       "    </tr>\n",
       "    <tr>\n",
       "      <th>...</th>\n",
       "      <td>...</td>\n",
       "      <td>...</td>\n",
       "      <td>...</td>\n",
       "      <td>...</td>\n",
       "      <td>...</td>\n",
       "      <td>...</td>\n",
       "      <td>...</td>\n",
       "      <td>...</td>\n",
       "      <td>...</td>\n",
       "      <td>...</td>\n",
       "      <td>...</td>\n",
       "      <td>...</td>\n",
       "      <td>...</td>\n",
       "      <td>...</td>\n",
       "      <td>...</td>\n",
       "      <td>...</td>\n",
       "      <td>...</td>\n",
       "      <td>...</td>\n",
       "      <td>...</td>\n",
       "      <td>...</td>\n",
       "      <td>...</td>\n",
       "    </tr>\n",
       "    <tr>\n",
       "      <th>x_6815y_21607</th>\n",
       "      <td>0.0</td>\n",
       "      <td>0.070316</td>\n",
       "      <td>0.047850</td>\n",
       "      <td>0.097639</td>\n",
       "      <td>0.000000</td>\n",
       "      <td>0.000000</td>\n",
       "      <td>0.000000</td>\n",
       "      <td>0.825917</td>\n",
       "      <td>0.088494</td>\n",
       "      <td>0.000000</td>\n",
       "      <td>...</td>\n",
       "      <td>0.0</td>\n",
       "      <td>0.0</td>\n",
       "      <td>0.0</td>\n",
       "      <td>0.0</td>\n",
       "      <td>0.000000</td>\n",
       "      <td>0.046268</td>\n",
       "      <td>0.0</td>\n",
       "      <td>0.0</td>\n",
       "      <td>0.0</td>\n",
       "      <td>0.000000</td>\n",
       "    </tr>\n",
       "    <tr>\n",
       "      <th>x_9386y_21806</th>\n",
       "      <td>0.0</td>\n",
       "      <td>0.376629</td>\n",
       "      <td>0.261349</td>\n",
       "      <td>0.210994</td>\n",
       "      <td>0.133808</td>\n",
       "      <td>0.000000</td>\n",
       "      <td>0.000000</td>\n",
       "      <td>1.378805</td>\n",
       "      <td>0.154349</td>\n",
       "      <td>0.000000</td>\n",
       "      <td>...</td>\n",
       "      <td>0.0</td>\n",
       "      <td>0.0</td>\n",
       "      <td>0.0</td>\n",
       "      <td>0.0</td>\n",
       "      <td>0.000000</td>\n",
       "      <td>0.000000</td>\n",
       "      <td>0.0</td>\n",
       "      <td>0.0</td>\n",
       "      <td>0.0</td>\n",
       "      <td>0.000000</td>\n",
       "    </tr>\n",
       "    <tr>\n",
       "      <th>x_9651y_21024</th>\n",
       "      <td>0.0</td>\n",
       "      <td>0.266600</td>\n",
       "      <td>0.127376</td>\n",
       "      <td>0.181046</td>\n",
       "      <td>0.075564</td>\n",
       "      <td>0.000000</td>\n",
       "      <td>0.000000</td>\n",
       "      <td>0.904877</td>\n",
       "      <td>0.155066</td>\n",
       "      <td>0.000000</td>\n",
       "      <td>...</td>\n",
       "      <td>0.0</td>\n",
       "      <td>0.0</td>\n",
       "      <td>0.0</td>\n",
       "      <td>0.0</td>\n",
       "      <td>0.000000</td>\n",
       "      <td>0.000000</td>\n",
       "      <td>0.0</td>\n",
       "      <td>0.0</td>\n",
       "      <td>0.0</td>\n",
       "      <td>0.000000</td>\n",
       "    </tr>\n",
       "    <tr>\n",
       "      <th>x_19160y_19111</th>\n",
       "      <td>0.0</td>\n",
       "      <td>0.186514</td>\n",
       "      <td>0.134967</td>\n",
       "      <td>0.165539</td>\n",
       "      <td>0.000000</td>\n",
       "      <td>0.000000</td>\n",
       "      <td>0.000000</td>\n",
       "      <td>1.161587</td>\n",
       "      <td>0.145596</td>\n",
       "      <td>0.000000</td>\n",
       "      <td>...</td>\n",
       "      <td>0.0</td>\n",
       "      <td>0.0</td>\n",
       "      <td>0.0</td>\n",
       "      <td>0.0</td>\n",
       "      <td>0.064447</td>\n",
       "      <td>0.000000</td>\n",
       "      <td>0.0</td>\n",
       "      <td>0.0</td>\n",
       "      <td>0.0</td>\n",
       "      <td>0.000000</td>\n",
       "    </tr>\n",
       "    <tr>\n",
       "      <th>x_19699y_19108</th>\n",
       "      <td>0.0</td>\n",
       "      <td>0.161822</td>\n",
       "      <td>0.107413</td>\n",
       "      <td>0.126327</td>\n",
       "      <td>0.078073</td>\n",
       "      <td>0.040618</td>\n",
       "      <td>0.000000</td>\n",
       "      <td>0.381081</td>\n",
       "      <td>0.084896</td>\n",
       "      <td>0.000000</td>\n",
       "      <td>...</td>\n",
       "      <td>0.0</td>\n",
       "      <td>0.0</td>\n",
       "      <td>0.0</td>\n",
       "      <td>0.0</td>\n",
       "      <td>0.095549</td>\n",
       "      <td>0.039141</td>\n",
       "      <td>0.0</td>\n",
       "      <td>0.0</td>\n",
       "      <td>0.0</td>\n",
       "      <td>0.041648</td>\n",
       "    </tr>\n",
       "  </tbody>\n",
       "</table>\n",
       "<p>684 rows × 511 columns</p>\n",
       "</div>"
      ],
      "text/plain": [
       "                510.28    511.32    512.29    513.32    514.32    515.32  \\\n",
       "x_10412y_16754     0.0  0.514763  0.360081  0.697731  0.174104  0.000000   \n",
       "x_11953y_16755     0.0  1.216098  0.962318  1.209912  0.282644  0.238123   \n",
       "x_12154y_17714     0.0  0.646368  0.481581  1.278379  0.327409  0.187171   \n",
       "x_12360y_17254     0.0  1.180529  0.652149  2.189925  0.467382  0.200060   \n",
       "x_14022y_18082     0.0  3.058327  2.101446  5.624392  1.406737  1.047677   \n",
       "...                ...       ...       ...       ...       ...       ...   \n",
       "x_6815y_21607      0.0  0.070316  0.047850  0.097639  0.000000  0.000000   \n",
       "x_9386y_21806      0.0  0.376629  0.261349  0.210994  0.133808  0.000000   \n",
       "x_9651y_21024      0.0  0.266600  0.127376  0.181046  0.075564  0.000000   \n",
       "x_19160y_19111     0.0  0.186514  0.134967  0.165539  0.000000  0.000000   \n",
       "x_19699y_19108     0.0  0.161822  0.107413  0.126327  0.078073  0.040618   \n",
       "\n",
       "                  517.29    518.35    519.30    520.29  ...  987.62  988.63  \\\n",
       "x_10412y_16754  0.000000  1.562168  0.255871  0.000000  ...     0.0     0.0   \n",
       "x_11953y_16755  0.000000  1.277035  0.336079  0.000000  ...     0.0     0.0   \n",
       "x_12154y_17714  0.000000  3.152753  0.646713  0.125125  ...     0.0     0.0   \n",
       "x_12360y_17254  0.128717  2.244439  0.500761  0.000000  ...     0.0     0.0   \n",
       "x_14022y_18082  0.499547  2.825733  1.300733  0.483882  ...     0.0     0.0   \n",
       "...                  ...       ...       ...       ...  ...     ...     ...   \n",
       "x_6815y_21607   0.000000  0.825917  0.088494  0.000000  ...     0.0     0.0   \n",
       "x_9386y_21806   0.000000  1.378805  0.154349  0.000000  ...     0.0     0.0   \n",
       "x_9651y_21024   0.000000  0.904877  0.155066  0.000000  ...     0.0     0.0   \n",
       "x_19160y_19111  0.000000  1.161587  0.145596  0.000000  ...     0.0     0.0   \n",
       "x_19699y_19108  0.000000  0.381081  0.084896  0.000000  ...     0.0     0.0   \n",
       "\n",
       "                989.68  990.60    991.74    992.72  993.59  994.54  995.53  \\\n",
       "x_10412y_16754     0.0     0.0  0.000000  0.000000     0.0     0.0     0.0   \n",
       "x_11953y_16755     0.0     0.0  0.000000  0.000000     0.0     0.0     0.0   \n",
       "x_12154y_17714     0.0     0.0  0.000000  0.000000     0.0     0.0     0.0   \n",
       "x_12360y_17254     0.0     0.0  0.000000  0.000000     0.0     0.0     0.0   \n",
       "x_14022y_18082     0.0     0.0  0.000000  0.000000     0.0     0.0     0.0   \n",
       "...                ...     ...       ...       ...     ...     ...     ...   \n",
       "x_6815y_21607      0.0     0.0  0.000000  0.046268     0.0     0.0     0.0   \n",
       "x_9386y_21806      0.0     0.0  0.000000  0.000000     0.0     0.0     0.0   \n",
       "x_9651y_21024      0.0     0.0  0.000000  0.000000     0.0     0.0     0.0   \n",
       "x_19160y_19111     0.0     0.0  0.064447  0.000000     0.0     0.0     0.0   \n",
       "x_19699y_19108     0.0     0.0  0.095549  0.039141     0.0     0.0     0.0   \n",
       "\n",
       "                  997.63  \n",
       "x_10412y_16754  0.000000  \n",
       "x_11953y_16755  0.000000  \n",
       "x_12154y_17714  0.000000  \n",
       "x_12360y_17254  0.000000  \n",
       "x_14022y_18082  0.000000  \n",
       "...                  ...  \n",
       "x_6815y_21607   0.000000  \n",
       "x_9386y_21806   0.000000  \n",
       "x_9651y_21024   0.000000  \n",
       "x_19160y_19111  0.000000  \n",
       "x_19699y_19108  0.041648  \n",
       "\n",
       "[684 rows x 511 columns]"
      ]
     },
     "execution_count": 21,
     "metadata": {},
     "output_type": "execute_result"
    }
   ],
   "source": [
    "scmodel.intens_mtx[scmodel.metadata['type']=='Neurons']"
   ]
  },
  {
   "cell_type": "code",
   "execution_count": 39,
   "metadata": {},
   "outputs": [
    {
     "data": {
      "text/plain": [
       "array([511.32, 512.29, 513.32, 521.19, 522.39, 524.41, 541.3, 545.05,\n",
       "       547.33, 561.29, 588.37, 589.35, 596.4, 610.39, 614.38, 622.47,\n",
       "       623.46, 625.43, 636.47, 649.41, 665.46, 666.51, 676.49, 679.54,\n",
       "       681.44, 687.38, 689.44, 692.48, 707.56, 715.06, 719.45, 721.46,\n",
       "       722.53, 724.54, 725.49, 740.53, 741.46, 752.58, 760.68, 761.68,\n",
       "       763.69, 768.59, 770.53, 776.59, 782.65, 786.66, 788.72, 810.69,\n",
       "       850.7, 919.57], dtype=object)"
      ]
     },
     "execution_count": 39,
     "metadata": {},
     "output_type": "execute_result"
    }
   ],
   "source": [
    "scmodel.feature_retain[-5]"
   ]
  },
  {
   "cell_type": "code",
   "execution_count": 50,
   "metadata": {},
   "outputs": [
    {
     "data": {
      "image/png": "[encoded data removed]",
      "text/plain": [
       "<Figure size 432x288 with 1 Axes>"
      ]
     },
     "metadata": {
      "needs_background": "light"
     },
     "output_type": "display_data"
    }
   ],
   "source": [
    "plt.stem(scmodel.intens_mtx.columns,\n",
    "         scmodel.intens_mtx[scmodel.metadata['type']=='Neurons'].mean(0)-scmodel.intens_mtx[scmodel.metadata['type']=='Astrocytes'].mean(0),\n",
    "        markerfmt=' ',linefmt='slategray')\n",
    "plt.stem(scmodel.feature_retain[-5],\n",
    "         scmodel.intens_mtx.loc[:,scmodel.feature_retain[-5]][scmodel.metadata['type']=='Neurons'].mean(0)-scmodel.intens_mtx.loc[:,scmodel.feature_retain[-5]][scmodel.metadata['type']=='Astrocytes'].mean(0),\n",
    "        markerfmt=' ',linefmt='r')\n",
    "plt.savefig('figures/selected_feat_icc.pdf')\n"
   ]
  },
  {
   "cell_type": "code",
   "execution_count": 290,
   "metadata": {},
   "outputs": [
    {
     "name": "stdout",
     "output_type": "stream",
     "text": [
      "filtered intensity matrix with shape (1543, 50)\n"
     ]
    }
   ],
   "source": [
    "sc_icc = scMSAnalysis(pd.DataFrame(df['type']))\n",
    "sc_icc.preprocessing(scmodel.intens_mtx.loc[:,scmodel.feature_retain[-5]],norm_method='None',feat_drop_rate=0.005,cell_drop_rate=0.005)"
   ]
  },
  {
   "cell_type": "code",
   "execution_count": 291,
   "metadata": {
    "collapsed": true
   },
   "outputs": [],
   "source": [
    "sc_icc.get_labels(['type'])"
   ]
  },
  {
   "cell_type": "code",
   "execution_count": 292,
   "metadata": {},
   "outputs": [
    {
     "name": "stdout",
     "output_type": "stream",
     "text": [
      "computing neighbors..\n",
      "performing umap...\n"
     ]
    },
    {
     "name": "stderr",
     "output_type": "stream",
     "text": [
      "The `inplace` parameter in pandas.Categorical.reorder_categories is deprecated and will be removed in a future version. Removing unused categories will always return a new Categorical object.\n",
      "... storing 'type' as categorical\n"
     ]
    },
    {
     "name": "stdout",
     "output_type": "stream",
     "text": [
      "performing clustering...\n"
     ]
    }
   ],
   "source": [
    "sc_icc.analyze(n_neighbors=35, n_pcs=-1, min_dist=0.2, resolution = 0.7,\n",
    "              categories=['type','leiden'])"
   ]
  },
  {
   "cell_type": "code",
   "execution_count": 293,
   "metadata": {
    "collapsed": true
   },
   "outputs": [],
   "source": [
    "show_embed = widgets.interactive(sc_icc.show_cellEmbed, label=sc_icc.adata.obs.columns,\n",
    "                                 embed_method=sc_icc.adata.obsm.keys(),size=(0.5,2,0.1));"
   ]
  },
  {
   "cell_type": "code",
   "execution_count": 294,
   "metadata": {},
   "outputs": [
    {
     "data": {
      "application/vnd.jupyter.widget-view+json": {
       "model_id": "8d92f82bbf034da6884c10317b5e2b0c",
       "version_major": 2,
       "version_minor": 0
      },
      "text/plain": [
       "interactive(children=(Dropdown(description='label', options=('type', 'leiden'), value='type'), Dropdown(descri…"
      ]
     },
     "metadata": {},
     "output_type": "display_data"
    }
   ],
   "source": [
    "show_embed"
   ]
  },
  {
   "cell_type": "code",
   "execution_count": 295,
   "metadata": {},
   "outputs": [
    {
     "data": {
      "image/png": "[encoded data removed]",
      "text/plain": [
       "<Figure size 360x360 with 1 Axes>"
      ]
     },
     "metadata": {},
     "output_type": "display_data"
    }
   ],
   "source": [
    "from matplotlib.pyplot import rc_context\n",
    "\n",
    "with rc_context({'figure.figsize': (5, 5)}):\n",
    "    sc.pl.umap(sc_icc.adata, color='leiden', add_outline=False, legend_loc='on data',\n",
    "               legend_fontsize=14, legend_fontoutline=2,frameon=False,\n",
    "               title='clustering of cells', palette='rainbow')"
   ]
  },
  {
   "cell_type": "code",
   "execution_count": 296,
   "metadata": {
    "collapsed": true
   },
   "outputs": [],
   "source": [
    "import scanpy as sc"
   ]
  },
  {
   "cell_type": "code",
   "execution_count": 309,
   "metadata": {},
   "outputs": [
    {
     "data": {
      "image/png": "[encoded data removed]",
      "text/plain": [
       "<Figure size 576x360 with 4 Axes>"
      ]
     },
     "metadata": {
      "needs_background": "light"
     },
     "output_type": "display_data"
    }
   ],
   "source": [
    "sc_icc.adata.layers['scaled'] = sc.pp.scale(sc_icc.adata, copy=True, zero_center=True).X\n",
    "sc.pl.heatmap(sc_icc.adata,sc_icc.intens_mtx.columns[:15],groupby='leiden',layer='scaled',\n",
    "              cmap='Blues',swap_axes=True,dendrogram=True,vmax=6,figsize=(8,5))"
   ]
  },
  {
   "cell_type": "code",
   "execution_count": 298,
   "metadata": {
    "collapsed": true
   },
   "outputs": [],
   "source": [
    "type_count = []\n",
    "for i in sc_icc.metadata['leiden'].unique():\n",
    "    cells = sc_icc.metadata[sc_icc.metadata['leiden']==i]['type']\n",
    "    type_count.append(cells.value_counts()/cells.shape[0])"
   ]
  },
  {
   "cell_type": "code",
   "execution_count": 299,
   "metadata": {
    "collapsed": true
   },
   "outputs": [],
   "source": [
    "neuron_ratio = np.array([ratio.Neurons for ratio in type_count])\n",
    "sort_idx = np.argsort(neuron_ratio)\n",
    "neuron_ratio = neuron_ratio[sort_idx]\n",
    "astro_ratio = 1-neuron_ratio"
   ]
  },
  {
   "cell_type": "code",
   "execution_count": 300,
   "metadata": {},
   "outputs": [
    {
     "data": {
      "text/plain": [
       "<matplotlib.legend.Legend at 0x7fd4f84fc4f0>"
      ]
     },
     "execution_count": 300,
     "metadata": {},
     "output_type": "execute_result"
    },
    {
     "data": {
      "image/png": "[encoded data removed]",
      "text/plain": [
       "<Figure size 360x180 with 1 Axes>"
      ]
     },
     "metadata": {
      "needs_background": "light"
     },
     "output_type": "display_data"
    }
   ],
   "source": [
    "import matplotlib\n",
    "fig,ax = plt.subplots(figsize=(5,2.5))\n",
    "bottom = [0]*len(neuron_ratio)\n",
    "# cmap = matplotlib.cm.get_cmap('rainbow')\n",
    "# norm = matplotlib.colors.Normalize(vmin=0.0, vmax=4.0)\n",
    "\n",
    "plt.bar(np.arange(0,len(neuron_ratio)),neuron_ratio, bottom=bottom,label='neuron',alpha=0.7)\n",
    "bottom = [x + y for x, y in zip(bottom,neuron_ratio)]\n",
    "plt.bar(np.arange(0,len(neuron_ratio)),astro_ratio, bottom=bottom,label='astrocyte'.format(i),alpha=0.7)\n",
    "\n",
    "plt.legend()\n",
    "plt.xlim([-1,11])\n",
    "plt.ylabel('proportion')\n",
    "plt.xlabel('cluster')\n",
    "plt.xticks(ticks=np.arange(0,len(neuron_ratio)),labels=sc_icc.metadata['leiden'].unique()[sort_idx])\n",
    "plt.legend(frameon=False,fontsize=12,ncol=1,loc='lower center',bbox_to_anchor=(1.15, .3))"
   ]
  },
  {
   "cell_type": "code",
   "execution_count": null,
   "metadata": {
    "collapsed": true
   },
   "outputs": [],
   "source": []
  }
 ],
 "metadata": {
  "kernelspec": {
   "display_name": "scms",
   "language": "python",
   "name": "scms"
  },
  "language_info": {
   "codemirror_mode": {
    "name": "ipython",
    "version": 3
   },
   "file_extension": ".py",
   "mimetype": "text/x-python",
   "name": "python",
   "nbconvert_exporter": "python",
   "pygments_lexer": "ipython3",
   "version": "3.8.2"
  }
 },
 "nbformat": 4,
 "nbformat_minor": 5
}
