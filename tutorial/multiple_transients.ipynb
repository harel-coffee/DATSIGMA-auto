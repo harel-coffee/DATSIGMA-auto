{
 "cells": [
  {
   "cell_type": "code",
   "execution_count": 1,
   "metadata": {},
   "outputs": [
    {
     "name": "stdout",
     "output_type": "stream",
     "text": [
      "\n",
      "    ========================\n",
      "          SPIKE\n",
      "    ========================\n",
      "    Version     : 0.99.32\n",
      "    Date        : 31-03-2023\n",
      "    Revision Id : 596\n",
      "    ========================\n",
      "\n",
      "loading plugins... ( use spike.plugins.report() for a short description of each plugins )\n",
      "*** zoom3D not loaded ***\n",
      "generic plugins loaded:\n",
      "Fitter,  Linear_prediction,  Peaks,  bcorr,  fastclean,  gaussenh,  rem_ridge,  sane,  sg,  test,  urQRd, \n",
      "MS plugins loaded:\n",
      "FTMS_calib,  PhaseMS,  diagonal_2DMS, \n"
     ]
    }
   ],
   "source": [
    "import numpy as np\n",
    "import pandas as pd\n",
    "import os\n",
    "from os import path\n",
    "from glob import glob\n",
    "import matplotlib.pyplot as plt\n",
    "import sys\n",
    "sys.path.append('../scms_py/')\n",
    "from utils import *\n",
    "from processing import *\n",
    "from scMSData import scMSData\n",
    "from analysis import scMSAnalysis\n",
    "import scanpy as sc\n",
    "import seaborn as sns\n",
    "\n",
    "import ipywidgets as widgets\n",
    "from ipywidgets import Box, IntSlider\n",
    "#%matplotlib widget"
   ]
  },
  {
   "cell_type": "code",
   "execution_count": 2,
   "metadata": {
    "scrolled": true
   },
   "outputs": [
    {
     "name": "stderr",
     "output_type": "stream",
     "text": [
      "  0%|                                                                            | 0/1 [00:00<?, ?it/s]\n",
      "  0%|                                                                          | 0/184 [00:00<?, ?it/s]\u001b[A\n",
      "  1%|▎                                                                 | 1/184 [00:00<00:31,  5.86it/s]\u001b[A"
     ]
    },
    {
     "name": "stdout",
     "output_type": "stream",
     "text": [
      "Using 3 parameters calibration,  Warning calibB is -ML2\n",
      "Using 3 parameters calibration,  Warning calibB is -ML2\n"
     ]
    },
    {
     "name": "stderr",
     "output_type": "stream",
     "text": [
      "\n",
      "  1%|▋                                                                 | 2/184 [00:00<00:23,  7.68it/s]\u001b[A"
     ]
    },
    {
     "name": "stdout",
     "output_type": "stream",
     "text": [
      "Using 3 parameters calibration,  Warning calibB is -ML2\n"
     ]
    },
    {
     "name": "stderr",
     "output_type": "stream",
     "text": [
      "\n",
      "  2%|█▍                                                                | 4/184 [00:00<00:26,  6.73it/s]\u001b[A"
     ]
    },
    {
     "name": "stdout",
     "output_type": "stream",
     "text": [
      "Using 3 parameters calibration,  Warning calibB is -ML2\n",
      "Using 3 parameters calibration,  Warning calibB is -ML2\n",
      "Using 3 parameters calibration,  Warning calibB is -ML2\n"
     ]
    },
    {
     "name": "stderr",
     "output_type": "stream",
     "text": [
      "\n",
      "  3%|██▏                                                               | 6/184 [00:00<00:21,  8.11it/s]\u001b[A\n",
      "  4%|██▌                                                               | 7/184 [00:00<00:20,  8.51it/s]\u001b[A"
     ]
    },
    {
     "name": "stdout",
     "output_type": "stream",
     "text": [
      "Using 3 parameters calibration,  Warning calibB is -ML2\n",
      "Using 3 parameters calibration,  Warning calibB is -ML2\n",
      "Using 3 parameters calibration,  Warning calibB is -ML2\n"
     ]
    },
    {
     "name": "stderr",
     "output_type": "stream",
     "text": [
      "\n",
      "  5%|███▏                                                              | 9/184 [00:01<00:18,  9.29it/s]\u001b[A\n",
      "  5%|███▌                                                             | 10/184 [00:01<00:21,  8.17it/s]\u001b[A"
     ]
    },
    {
     "name": "stdout",
     "output_type": "stream",
     "text": [
      "Using 3 parameters calibration,  Warning calibB is -ML2\n",
      "Using 3 parameters calibration,  Warning calibB is -ML2\n",
      "Using 3 parameters calibration,  Warning calibB is -ML2\n"
     ]
    },
    {
     "name": "stderr",
     "output_type": "stream",
     "text": [
      "\n",
      "  7%|████▏                                                            | 12/184 [00:01<00:18,  9.13it/s]\u001b[A\n",
      "  8%|████▉                                                            | 14/184 [00:01<00:17,  9.89it/s]\u001b[A"
     ]
    },
    {
     "name": "stdout",
     "output_type": "stream",
     "text": [
      "Using 3 parameters calibration,  Warning calibB is -ML2\n",
      "Using 3 parameters calibration,  Warning calibB is -ML2\n"
     ]
    },
    {
     "name": "stderr",
     "output_type": "stream",
     "text": [
      "\n",
      "  8%|█████▎                                                           | 15/184 [00:01<00:19,  8.67it/s]\u001b[A"
     ]
    },
    {
     "name": "stdout",
     "output_type": "stream",
     "text": [
      "Using 3 parameters calibration,  Warning calibB is -ML2\n",
      "Using 3 parameters calibration,  Warning calibB is -ML2\n",
      "Using 3 parameters calibration,  Warning calibB is -ML2\n"
     ]
    },
    {
     "name": "stderr",
     "output_type": "stream",
     "text": [
      "\n",
      "  9%|██████                                                           | 17/184 [00:01<00:17,  9.50it/s]\u001b[A\n",
      " 10%|██████▋                                                          | 19/184 [00:02<00:16,  9.92it/s]\u001b[A"
     ]
    },
    {
     "name": "stdout",
     "output_type": "stream",
     "text": [
      "Using 3 parameters calibration,  Warning calibB is -ML2\n",
      "Using 3 parameters calibration,  Warning calibB is -ML2\n",
      "Using 3 parameters calibration,  Warning calibB is -ML2\n"
     ]
    },
    {
     "name": "stderr",
     "output_type": "stream",
     "text": [
      "\n",
      " 11%|███████▍                                                         | 21/184 [00:02<00:18,  8.97it/s]\u001b[A"
     ]
    },
    {
     "name": "stdout",
     "output_type": "stream",
     "text": [
      "Using 3 parameters calibration,  Warning calibB is -ML2\n",
      "Using 3 parameters calibration,  Warning calibB is -ML2\n",
      "Using 3 parameters calibration,  Warning calibB is -ML2\n"
     ]
    },
    {
     "name": "stderr",
     "output_type": "stream",
     "text": [
      "\n",
      " 12%|████████▏                                                        | 23/184 [00:02<00:17,  9.40it/s]\u001b[A\n",
      " 14%|████████▊                                                        | 25/184 [00:02<00:16,  9.84it/s]\u001b[A"
     ]
    },
    {
     "name": "stdout",
     "output_type": "stream",
     "text": [
      "Using 3 parameters calibration,  Warning calibB is -ML2\n",
      "Using 3 parameters calibration,  Warning calibB is -ML2\n"
     ]
    },
    {
     "name": "stderr",
     "output_type": "stream",
     "text": [
      "\n",
      " 14%|█████████▏                                                       | 26/184 [00:02<00:18,  8.75it/s]\u001b[A"
     ]
    },
    {
     "name": "stdout",
     "output_type": "stream",
     "text": [
      "Using 3 parameters calibration,  Warning calibB is -ML2\n",
      "Using 3 parameters calibration,  Warning calibB is -ML2\n",
      "Using 3 parameters calibration,  Warning calibB is -ML2\n"
     ]
    },
    {
     "name": "stderr",
     "output_type": "stream",
     "text": [
      "\n",
      " 15%|█████████▉                                                       | 28/184 [00:03<00:16,  9.52it/s]\u001b[A\n",
      " 16%|██████████▌                                                      | 30/184 [00:03<00:15, 10.00it/s]\u001b[A"
     ]
    },
    {
     "name": "stdout",
     "output_type": "stream",
     "text": [
      "Using 3 parameters calibration,  Warning calibB is -ML2\n",
      "Using 3 parameters calibration,  Warning calibB is -ML2\n",
      "Using 3 parameters calibration,  Warning calibB is -ML2\n"
     ]
    },
    {
     "name": "stderr",
     "output_type": "stream",
     "text": [
      "\n",
      " 17%|███████████▎                                                     | 32/184 [00:03<00:16,  9.16it/s]\u001b[A"
     ]
    },
    {
     "name": "stdout",
     "output_type": "stream",
     "text": [
      "Using 3 parameters calibration,  Warning calibB is -ML2\n",
      "Using 3 parameters calibration,  Warning calibB is -ML2\n",
      "Using 3 parameters calibration,  Warning calibB is -ML2\n"
     ]
    },
    {
     "name": "stderr",
     "output_type": "stream",
     "text": [
      "\n",
      " 18%|████████████                                                     | 34/184 [00:03<00:15,  9.76it/s]\u001b[A\n",
      " 20%|████████████▋                                                    | 36/184 [00:03<00:14, 10.20it/s]\u001b[A"
     ]
    },
    {
     "name": "stdout",
     "output_type": "stream",
     "text": [
      "Using 3 parameters calibration,  Warning calibB is -ML2\n",
      "Using 3 parameters calibration,  Warning calibB is -ML2\n"
     ]
    },
    {
     "name": "stderr",
     "output_type": "stream",
     "text": [
      "\n",
      " 21%|█████████████▍                                                   | 38/184 [00:04<00:15,  9.30it/s]\u001b[A"
     ]
    },
    {
     "name": "stdout",
     "output_type": "stream",
     "text": [
      "Using 3 parameters calibration,  Warning calibB is -ML2\n",
      "Using 3 parameters calibration,  Warning calibB is -ML2\n",
      "Using 3 parameters calibration,  Warning calibB is -ML2\n"
     ]
    },
    {
     "name": "stderr",
     "output_type": "stream",
     "text": [
      "\n",
      " 22%|██████████████▏                                                  | 40/184 [00:04<00:14,  9.86it/s]\u001b[A"
     ]
    },
    {
     "name": "stdout",
     "output_type": "stream",
     "text": [
      "Using 3 parameters calibration,  Warning calibB is -ML2\n",
      "Using 3 parameters calibration,  Warning calibB is -ML2\n",
      "Using 3 parameters calibration,  Warning calibB is -ML2\n"
     ]
    },
    {
     "name": "stderr",
     "output_type": "stream",
     "text": [
      "\n",
      " 23%|██████████████▊                                                  | 42/184 [00:04<00:13, 10.19it/s]\u001b[A\n",
      " 24%|███████████████▌                                                 | 44/184 [00:04<00:15,  9.32it/s]\u001b[A"
     ]
    },
    {
     "name": "stdout",
     "output_type": "stream",
     "text": [
      "Using 3 parameters calibration,  Warning calibB is -ML2\n",
      "Using 3 parameters calibration,  Warning calibB is -ML2\n",
      "Using 3 parameters calibration,  Warning calibB is -ML2\n"
     ]
    },
    {
     "name": "stderr",
     "output_type": "stream",
     "text": [
      "\n",
      " 25%|████████████████▎                                                | 46/184 [00:04<00:14,  9.76it/s]\u001b[A"
     ]
    },
    {
     "name": "stdout",
     "output_type": "stream",
     "text": [
      "Using 3 parameters calibration,  Warning calibB is -ML2\n",
      "Using 3 parameters calibration,  Warning calibB is -ML2\n"
     ]
    },
    {
     "name": "stderr",
     "output_type": "stream",
     "text": [
      "\n",
      " 26%|████████████████▉                                                | 48/184 [00:05<00:14,  9.11it/s]\u001b[A"
     ]
    },
    {
     "name": "stdout",
     "output_type": "stream",
     "text": [
      "Using 3 parameters calibration,  Warning calibB is -ML2\n",
      "Using 3 parameters calibration,  Warning calibB is -ML2\n",
      "Using 3 parameters calibration,  Warning calibB is -ML2\n"
     ]
    },
    {
     "name": "stderr",
     "output_type": "stream",
     "text": [
      "\n",
      " 27%|█████████████████▋                                               | 50/184 [00:05<00:13,  9.73it/s]\u001b[A\n",
      " 28%|██████████████████▎                                              | 52/184 [00:05<00:12, 10.15it/s]\u001b[A"
     ]
    },
    {
     "name": "stdout",
     "output_type": "stream",
     "text": [
      "Using 3 parameters calibration,  Warning calibB is -ML2\n",
      "Using 3 parameters calibration,  Warning calibB is -ML2\n",
      "Using 3 parameters calibration,  Warning calibB is -ML2\n"
     ]
    },
    {
     "name": "stderr",
     "output_type": "stream",
     "text": [
      "\n",
      " 29%|███████████████████                                              | 54/184 [00:05<00:14,  9.28it/s]\u001b[A"
     ]
    },
    {
     "name": "stdout",
     "output_type": "stream",
     "text": [
      "Using 3 parameters calibration,  Warning calibB is -ML2\n",
      "Using 3 parameters calibration,  Warning calibB is -ML2\n",
      "Using 3 parameters calibration,  Warning calibB is -ML2\n"
     ]
    },
    {
     "name": "stderr",
     "output_type": "stream",
     "text": [
      "\n",
      " 30%|███████████████████▊                                             | 56/184 [00:06<00:13,  9.70it/s]\u001b[A\n",
      " 32%|████████████████████▍                                            | 58/184 [00:06<00:12, 10.18it/s]\u001b[A"
     ]
    },
    {
     "name": "stdout",
     "output_type": "stream",
     "text": [
      "Using 3 parameters calibration,  Warning calibB is -ML2\n",
      "Using 3 parameters calibration,  Warning calibB is -ML2\n"
     ]
    },
    {
     "name": "stderr",
     "output_type": "stream",
     "text": [
      "\n",
      " 33%|█████████████████████▏                                           | 60/184 [00:06<00:13,  9.29it/s]\u001b[A"
     ]
    },
    {
     "name": "stdout",
     "output_type": "stream",
     "text": [
      "Using 3 parameters calibration,  Warning calibB is -ML2\n",
      "Using 3 parameters calibration,  Warning calibB is -ML2\n",
      "Using 3 parameters calibration,  Warning calibB is -ML2\n"
     ]
    },
    {
     "name": "stderr",
     "output_type": "stream",
     "text": [
      "\n",
      " 33%|█████████████████████▌                                           | 61/184 [00:06<00:13,  9.36it/s]\u001b[A\n",
      " 34%|██████████████████████▎                                          | 63/184 [00:06<00:12,  9.81it/s]\u001b[A"
     ]
    },
    {
     "name": "stdout",
     "output_type": "stream",
     "text": [
      "Using 3 parameters calibration,  Warning calibB is -ML2\n",
      "Using 3 parameters calibration,  Warning calibB is -ML2\n"
     ]
    },
    {
     "name": "stderr",
     "output_type": "stream",
     "text": [
      "\n",
      " 35%|██████████████████████▉                                          | 65/184 [00:06<00:13,  9.08it/s]\u001b[A"
     ]
    },
    {
     "name": "stdout",
     "output_type": "stream",
     "text": [
      "Using 3 parameters calibration,  Warning calibB is -ML2\n",
      "Using 3 parameters calibration,  Warning calibB is -ML2\n",
      "Using 3 parameters calibration,  Warning calibB is -ML2\n"
     ]
    },
    {
     "name": "stderr",
     "output_type": "stream",
     "text": [
      "\n",
      " 36%|███████████████████████▋                                         | 67/184 [00:07<00:12,  9.62it/s]\u001b[A"
     ]
    },
    {
     "name": "stdout",
     "output_type": "stream",
     "text": [
      "Using 3 parameters calibration,  Warning calibB is -ML2\n",
      "Using 3 parameters calibration,  Warning calibB is -ML2\n"
     ]
    },
    {
     "name": "stderr",
     "output_type": "stream",
     "text": [
      "\n",
      " 38%|████████████████████████▍                                        | 69/184 [00:07<00:12,  9.01it/s]\u001b[A"
     ]
    },
    {
     "name": "stdout",
     "output_type": "stream",
     "text": [
      "Using 3 parameters calibration,  Warning calibB is -ML2\n",
      "Using 3 parameters calibration,  Warning calibB is -ML2\n",
      "Using 3 parameters calibration,  Warning calibB is -ML2\n"
     ]
    },
    {
     "name": "stderr",
     "output_type": "stream",
     "text": [
      "\n",
      " 39%|█████████████████████████                                        | 71/184 [00:07<00:11,  9.57it/s]\u001b[A\n",
      " 40%|█████████████████████████▊                                       | 73/184 [00:07<00:10, 10.10it/s]\u001b[A"
     ]
    },
    {
     "name": "stdout",
     "output_type": "stream",
     "text": [
      "Using 3 parameters calibration,  Warning calibB is -ML2\n",
      "Using 3 parameters calibration,  Warning calibB is -ML2\n"
     ]
    },
    {
     "name": "stderr",
     "output_type": "stream",
     "text": [
      "\n",
      " 41%|██████████████████████████▍                                      | 75/184 [00:08<00:11,  9.16it/s]\u001b[A"
     ]
    },
    {
     "name": "stdout",
     "output_type": "stream",
     "text": [
      "Using 3 parameters calibration,  Warning calibB is -ML2\n",
      "Using 3 parameters calibration,  Warning calibB is -ML2\n",
      "Using 3 parameters calibration,  Warning calibB is -ML2\n"
     ]
    },
    {
     "name": "stderr",
     "output_type": "stream",
     "text": [
      "\n",
      " 42%|███████████████████████████▏                                     | 77/184 [00:08<00:11,  9.56it/s]\u001b[A"
     ]
    },
    {
     "name": "stdout",
     "output_type": "stream",
     "text": [
      "Using 3 parameters calibration,  Warning calibB is -ML2\n",
      "Using 3 parameters calibration,  Warning calibB is -ML2\n"
     ]
    },
    {
     "name": "stderr",
     "output_type": "stream",
     "text": [
      "\n",
      " 43%|███████████████████████████▉                                     | 79/184 [00:08<00:11,  8.92it/s]\u001b[A"
     ]
    },
    {
     "name": "stdout",
     "output_type": "stream",
     "text": [
      "Using 3 parameters calibration,  Warning calibB is -ML2\n",
      "Using 3 parameters calibration,  Warning calibB is -ML2\n",
      "Using 3 parameters calibration,  Warning calibB is -ML2\n"
     ]
    },
    {
     "name": "stderr",
     "output_type": "stream",
     "text": [
      "\n",
      " 44%|████████████████████████████▌                                    | 81/184 [00:08<00:10,  9.54it/s]\u001b[A\n",
      " 45%|█████████████████████████████▎                                   | 83/184 [00:08<00:10,  9.91it/s]\u001b[A"
     ]
    },
    {
     "name": "stdout",
     "output_type": "stream",
     "text": [
      "Using 3 parameters calibration,  Warning calibB is -ML2\n",
      "Using 3 parameters calibration,  Warning calibB is -ML2\n"
     ]
    },
    {
     "name": "stderr",
     "output_type": "stream",
     "text": [
      "\n",
      " 46%|██████████████████████████████                                   | 85/184 [00:09<00:10,  9.11it/s]\u001b[A"
     ]
    },
    {
     "name": "stdout",
     "output_type": "stream",
     "text": [
      "Using 3 parameters calibration,  Warning calibB is -ML2\n",
      "Using 3 parameters calibration,  Warning calibB is -ML2\n",
      "Using 3 parameters calibration,  Warning calibB is -ML2\n"
     ]
    },
    {
     "name": "stderr",
     "output_type": "stream",
     "text": [
      "\n",
      " 47%|██████████████████████████████▋                                  | 87/184 [00:09<00:10,  9.60it/s]\u001b[A"
     ]
    },
    {
     "name": "stdout",
     "output_type": "stream",
     "text": [
      "Using 3 parameters calibration,  Warning calibB is -ML2\n",
      "Using 3 parameters calibration,  Warning calibB is -ML2\n"
     ]
    },
    {
     "name": "stderr",
     "output_type": "stream",
     "text": [
      "\n",
      " 48%|███████████████████████████████▍                                 | 89/184 [00:09<00:10,  9.02it/s]\u001b[A"
     ]
    },
    {
     "name": "stdout",
     "output_type": "stream",
     "text": [
      "Using 3 parameters calibration,  Warning calibB is -ML2\n",
      "Using 3 parameters calibration,  Warning calibB is -ML2\n",
      "Using 3 parameters calibration,  Warning calibB is -ML2\n"
     ]
    },
    {
     "name": "stderr",
     "output_type": "stream",
     "text": [
      "\n",
      " 49%|████████████████████████████████▏                                | 91/184 [00:09<00:09,  9.34it/s]\u001b[A\n",
      " 50%|████████████████████████████████▌                                | 92/184 [00:09<00:09,  9.43it/s]\u001b[A"
     ]
    },
    {
     "name": "stdout",
     "output_type": "stream",
     "text": [
      "Using 3 parameters calibration,  Warning calibB is -ML2\n",
      "Using 3 parameters calibration,  Warning calibB is -ML2\n"
     ]
    },
    {
     "name": "stderr",
     "output_type": "stream",
     "text": [
      "\n",
      " 51%|█████████████████████████████████▏                               | 94/184 [00:10<00:10,  8.68it/s]\u001b[A"
     ]
    },
    {
     "name": "stdout",
     "output_type": "stream",
     "text": [
      "Using 3 parameters calibration,  Warning calibB is -ML2\n",
      "Using 3 parameters calibration,  Warning calibB is -ML2\n",
      "Using 3 parameters calibration,  Warning calibB is -ML2\n"
     ]
    },
    {
     "name": "stderr",
     "output_type": "stream",
     "text": [
      "\n",
      " 52%|█████████████████████████████████▉                               | 96/184 [00:10<00:09,  9.26it/s]\u001b[A\n",
      " 53%|██████████████████████████████████▌                              | 98/184 [00:10<00:08,  9.84it/s]\u001b[A"
     ]
    },
    {
     "name": "stdout",
     "output_type": "stream",
     "text": [
      "Using 3 parameters calibration,  Warning calibB is -ML2\n",
      "Using 3 parameters calibration,  Warning calibB is -ML2\n"
     ]
    },
    {
     "name": "stderr",
     "output_type": "stream",
     "text": [
      "\n",
      " 54%|██████████████████████████████████▊                             | 100/184 [00:10<00:09,  8.98it/s]\u001b[A"
     ]
    },
    {
     "name": "stdout",
     "output_type": "stream",
     "text": [
      "Using 3 parameters calibration,  Warning calibB is -ML2\n",
      "Using 3 parameters calibration,  Warning calibB is -ML2\n",
      "Using 3 parameters calibration,  Warning calibB is -ML2\n"
     ]
    },
    {
     "name": "stderr",
     "output_type": "stream",
     "text": [
      "\n",
      " 55%|███████████████████████████████████▍                            | 102/184 [00:10<00:08,  9.56it/s]\u001b[A"
     ]
    },
    {
     "name": "stdout",
     "output_type": "stream",
     "text": [
      "Using 3 parameters calibration,  Warning calibB is -ML2\n",
      "Using 3 parameters calibration,  Warning calibB is -ML2\n"
     ]
    },
    {
     "name": "stderr",
     "output_type": "stream",
     "text": [
      "\n",
      " 57%|████████████████████████████████████▏                           | 104/184 [00:11<00:08,  8.94it/s]\u001b[A"
     ]
    },
    {
     "name": "stdout",
     "output_type": "stream",
     "text": [
      "Using 3 parameters calibration,  Warning calibB is -ML2\n",
      "Using 3 parameters calibration,  Warning calibB is -ML2\n",
      "Using 3 parameters calibration,  Warning calibB is -ML2\n"
     ]
    },
    {
     "name": "stderr",
     "output_type": "stream",
     "text": [
      "\n",
      " 58%|████████████████████████████████████▊                           | 106/184 [00:11<00:08,  9.40it/s]\u001b[A\n",
      " 58%|█████████████████████████████████████▏                          | 107/184 [00:11<00:08,  9.45it/s]\u001b[A"
     ]
    },
    {
     "name": "stdout",
     "output_type": "stream",
     "text": [
      "Using 3 parameters calibration,  Warning calibB is -ML2\n",
      "Using 3 parameters calibration,  Warning calibB is -ML2\n"
     ]
    },
    {
     "name": "stderr",
     "output_type": "stream",
     "text": [
      "\n",
      " 59%|█████████████████████████████████████▉                          | 109/184 [00:11<00:08,  8.76it/s]\u001b[A"
     ]
    },
    {
     "name": "stdout",
     "output_type": "stream",
     "text": [
      "Using 3 parameters calibration,  Warning calibB is -ML2\n",
      "Using 3 parameters calibration,  Warning calibB is -ML2\n",
      "Using 3 parameters calibration,  Warning calibB is -ML2\n"
     ]
    },
    {
     "name": "stderr",
     "output_type": "stream",
     "text": [
      "\n",
      " 60%|██████████████████████████████████████▌                         | 111/184 [00:11<00:07,  9.45it/s]\u001b[A\n",
      " 61%|███████████████████████████████████████▎                        | 113/184 [00:12<00:07,  9.91it/s]\u001b[A"
     ]
    },
    {
     "name": "stdout",
     "output_type": "stream",
     "text": [
      "Using 3 parameters calibration,  Warning calibB is -ML2\n",
      "Using 3 parameters calibration,  Warning calibB is -ML2\n"
     ]
    },
    {
     "name": "stderr",
     "output_type": "stream",
     "text": [
      "\n",
      " 62%|████████████████████████████████████████                        | 115/184 [00:12<00:07,  9.11it/s]\u001b[A"
     ]
    },
    {
     "name": "stdout",
     "output_type": "stream",
     "text": [
      "Using 3 parameters calibration,  Warning calibB is -ML2\n",
      "Using 3 parameters calibration,  Warning calibB is -ML2\n",
      "Using 3 parameters calibration,  Warning calibB is -ML2\n"
     ]
    },
    {
     "name": "stderr",
     "output_type": "stream",
     "text": [
      "\n",
      " 64%|████████████████████████████████████████▋                       | 117/184 [00:12<00:07,  9.55it/s]\u001b[A"
     ]
    },
    {
     "name": "stdout",
     "output_type": "stream",
     "text": [
      "Using 3 parameters calibration,  Warning calibB is -ML2\n",
      "Using 3 parameters calibration,  Warning calibB is -ML2\n"
     ]
    },
    {
     "name": "stderr",
     "output_type": "stream",
     "text": [
      "\n",
      " 65%|█████████████████████████████████████████▍                      | 119/184 [00:12<00:07,  8.86it/s]\u001b[A"
     ]
    },
    {
     "name": "stdout",
     "output_type": "stream",
     "text": [
      "Using 3 parameters calibration,  Warning calibB is -ML2\n",
      "Using 3 parameters calibration,  Warning calibB is -ML2\n",
      "Using 3 parameters calibration,  Warning calibB is -ML2\n"
     ]
    },
    {
     "name": "stderr",
     "output_type": "stream",
     "text": [
      "\n",
      " 66%|██████████████████████████████████████████                      | 121/184 [00:12<00:06,  9.48it/s]\u001b[A\n",
      " 67%|██████████████████████████████████████████▊                     | 123/184 [00:13<00:06,  9.91it/s]\u001b[A"
     ]
    },
    {
     "name": "stdout",
     "output_type": "stream",
     "text": [
      "Using 3 parameters calibration,  Warning calibB is -ML2\n",
      "Using 3 parameters calibration,  Warning calibB is -ML2\n"
     ]
    },
    {
     "name": "stderr",
     "output_type": "stream",
     "text": [
      "\n",
      " 68%|███████████████████████████████████████████▍                    | 125/184 [00:13<00:06,  9.16it/s]\u001b[A"
     ]
    },
    {
     "name": "stdout",
     "output_type": "stream",
     "text": [
      "Using 3 parameters calibration,  Warning calibB is -ML2\n",
      "Using 3 parameters calibration,  Warning calibB is -ML2\n",
      "Using 3 parameters calibration,  Warning calibB is -ML2\n"
     ]
    },
    {
     "name": "stderr",
     "output_type": "stream",
     "text": [
      "\n",
      " 69%|████████████████████████████████████████████▏                   | 127/184 [00:13<00:05,  9.57it/s]\u001b[A"
     ]
    },
    {
     "name": "stdout",
     "output_type": "stream",
     "text": [
      "Using 3 parameters calibration,  Warning calibB is -ML2\n",
      "Using 3 parameters calibration,  Warning calibB is -ML2\n"
     ]
    },
    {
     "name": "stderr",
     "output_type": "stream",
     "text": [
      "\n",
      " 70%|████████████████████████████████████████████▊                   | 129/184 [00:13<00:06,  8.89it/s]\u001b[A"
     ]
    },
    {
     "name": "stdout",
     "output_type": "stream",
     "text": [
      "Using 3 parameters calibration,  Warning calibB is -ML2\n",
      "Using 3 parameters calibration,  Warning calibB is -ML2\n",
      "Using 3 parameters calibration,  Warning calibB is -ML2\n"
     ]
    },
    {
     "name": "stderr",
     "output_type": "stream",
     "text": [
      "\n",
      " 71%|█████████████████████████████████████████████▌                  | 131/184 [00:14<00:05,  9.44it/s]\u001b[A\n",
      " 72%|██████████████████████████████████████████████▎                 | 133/184 [00:14<00:05,  9.88it/s]\u001b[A"
     ]
    },
    {
     "name": "stdout",
     "output_type": "stream",
     "text": [
      "Using 3 parameters calibration,  Warning calibB is -ML2\n",
      "Using 3 parameters calibration,  Warning calibB is -ML2\n"
     ]
    },
    {
     "name": "stderr",
     "output_type": "stream",
     "text": [
      "\n",
      " 73%|██████████████████████████████████████████████▉                 | 135/184 [00:14<00:05,  9.02it/s]\u001b[A"
     ]
    },
    {
     "name": "stdout",
     "output_type": "stream",
     "text": [
      "Using 3 parameters calibration,  Warning calibB is -ML2\n",
      "Using 3 parameters calibration,  Warning calibB is -ML2\n",
      "Using 3 parameters calibration,  Warning calibB is -ML2\n"
     ]
    },
    {
     "name": "stderr",
     "output_type": "stream",
     "text": [
      "\n",
      " 74%|███████████████████████████████████████████████▋                | 137/184 [00:14<00:04,  9.45it/s]\u001b[A"
     ]
    },
    {
     "name": "stdout",
     "output_type": "stream",
     "text": [
      "Using 3 parameters calibration,  Warning calibB is -ML2\n",
      "Using 3 parameters calibration,  Warning calibB is -ML2\n"
     ]
    },
    {
     "name": "stderr",
     "output_type": "stream",
     "text": [
      "\n",
      " 76%|████████████████████████████████████████████████▎               | 139/184 [00:14<00:05,  8.83it/s]\u001b[A"
     ]
    },
    {
     "name": "stdout",
     "output_type": "stream",
     "text": [
      "Using 3 parameters calibration,  Warning calibB is -ML2\n",
      "Using 3 parameters calibration,  Warning calibB is -ML2\n",
      "Using 3 parameters calibration,  Warning calibB is -ML2\n"
     ]
    },
    {
     "name": "stderr",
     "output_type": "stream",
     "text": [
      "\n",
      " 77%|█████████████████████████████████████████████████               | 141/184 [00:15<00:04,  9.37it/s]\u001b[A\n",
      " 78%|█████████████████████████████████████████████████▋              | 143/184 [00:15<00:04,  9.63it/s]\u001b[A"
     ]
    },
    {
     "name": "stdout",
     "output_type": "stream",
     "text": [
      "Using 3 parameters calibration,  Warning calibB is -ML2\n",
      "Using 3 parameters calibration,  Warning calibB is -ML2\n"
     ]
    },
    {
     "name": "stderr",
     "output_type": "stream",
     "text": [
      "\n",
      " 78%|██████████████████████████████████████████████████              | 144/184 [00:15<00:04,  8.46it/s]\u001b[A"
     ]
    },
    {
     "name": "stdout",
     "output_type": "stream",
     "text": [
      "Using 3 parameters calibration,  Warning calibB is -ML2\n",
      "Using 3 parameters calibration,  Warning calibB is -ML2\n",
      "Using 3 parameters calibration,  Warning calibB is -ML2\n"
     ]
    },
    {
     "name": "stderr",
     "output_type": "stream",
     "text": [
      "\n",
      " 79%|██████████████████████████████████████████████████▊             | 146/184 [00:15<00:04,  9.16it/s]\u001b[A\n",
      " 80%|███████████████████████████████████████████████████▍            | 148/184 [00:15<00:03,  9.80it/s]\u001b[A"
     ]
    },
    {
     "name": "stdout",
     "output_type": "stream",
     "text": [
      "Using 3 parameters calibration,  Warning calibB is -ML2\n",
      "Using 3 parameters calibration,  Warning calibB is -ML2\n"
     ]
    },
    {
     "name": "stderr",
     "output_type": "stream",
     "text": [
      "\n",
      " 81%|███████████████████████████████████████████████████▊            | 149/184 [00:16<00:04,  8.64it/s]\u001b[A"
     ]
    },
    {
     "name": "stdout",
     "output_type": "stream",
     "text": [
      "Using 3 parameters calibration,  Warning calibB is -ML2\n",
      "Using 3 parameters calibration,  Warning calibB is -ML2\n",
      "Using 3 parameters calibration,  Warning calibB is -ML2\n"
     ]
    },
    {
     "name": "stderr",
     "output_type": "stream",
     "text": [
      "\n",
      " 82%|████████████████████████████████████████████████████▌           | 151/184 [00:16<00:03,  9.34it/s]\u001b[A\n",
      " 83%|█████████████████████████████████████████████████████▏          | 153/184 [00:16<00:03,  9.87it/s]\u001b[A"
     ]
    },
    {
     "name": "stdout",
     "output_type": "stream",
     "text": [
      "Using 3 parameters calibration,  Warning calibB is -ML2\n",
      "Using 3 parameters calibration,  Warning calibB is -ML2\n"
     ]
    },
    {
     "name": "stderr",
     "output_type": "stream",
     "text": [
      "\n",
      " 84%|█████████████████████████████████████████████████████▌          | 154/184 [00:16<00:03,  8.74it/s]\u001b[A"
     ]
    },
    {
     "name": "stdout",
     "output_type": "stream",
     "text": [
      "Using 3 parameters calibration,  Warning calibB is -ML2\n",
      "Using 3 parameters calibration,  Warning calibB is -ML2\n",
      "Using 3 parameters calibration,  Warning calibB is -ML2\n"
     ]
    },
    {
     "name": "stderr",
     "output_type": "stream",
     "text": [
      "\n",
      " 85%|██████████████████████████████████████████████████████▎         | 156/184 [00:16<00:02,  9.39it/s]\u001b[A\n",
      " 86%|██████████████████████████████████████████████████████▉         | 158/184 [00:16<00:02,  9.86it/s]\u001b[A"
     ]
    },
    {
     "name": "stdout",
     "output_type": "stream",
     "text": [
      "Using 3 parameters calibration,  Warning calibB is -ML2\n",
      "Using 3 parameters calibration,  Warning calibB is -ML2\n"
     ]
    },
    {
     "name": "stderr",
     "output_type": "stream",
     "text": [
      "\n",
      " 86%|███████████████████████████████████████████████████████▎        | 159/184 [00:17<00:02,  8.71it/s]\u001b[A"
     ]
    },
    {
     "name": "stdout",
     "output_type": "stream",
     "text": [
      "Using 3 parameters calibration,  Warning calibB is -ML2\n",
      "Using 3 parameters calibration,  Warning calibB is -ML2\n",
      "Using 3 parameters calibration,  Warning calibB is -ML2\n"
     ]
    },
    {
     "name": "stderr",
     "output_type": "stream",
     "text": [
      "\n",
      " 88%|████████████████████████████████████████████████████████        | 161/184 [00:17<00:02,  9.49it/s]\u001b[A\n",
      " 89%|████████████████████████████████████████████████████████▋       | 163/184 [00:17<00:02, 10.09it/s]\u001b[A"
     ]
    },
    {
     "name": "stdout",
     "output_type": "stream",
     "text": [
      "Using 3 parameters calibration,  Warning calibB is -ML2\n",
      "Using 3 parameters calibration,  Warning calibB is -ML2\n"
     ]
    },
    {
     "name": "stderr",
     "output_type": "stream",
     "text": [
      "\n",
      " 90%|█████████████████████████████████████████████████████████▍      | 165/184 [00:17<00:02,  9.26it/s]\u001b[A"
     ]
    },
    {
     "name": "stdout",
     "output_type": "stream",
     "text": [
      "Using 3 parameters calibration,  Warning calibB is -ML2\n",
      "Using 3 parameters calibration,  Warning calibB is -ML2\n",
      "Using 3 parameters calibration,  Warning calibB is -ML2\n"
     ]
    },
    {
     "name": "stderr",
     "output_type": "stream",
     "text": [
      "\n",
      " 91%|██████████████████████████████████████████████████████████      | 167/184 [00:17<00:01,  9.82it/s]\u001b[A"
     ]
    },
    {
     "name": "stdout",
     "output_type": "stream",
     "text": [
      "Using 3 parameters calibration,  Warning calibB is -ML2\n",
      "Using 3 parameters calibration,  Warning calibB is -ML2\n"
     ]
    },
    {
     "name": "stderr",
     "output_type": "stream",
     "text": [
      "\n",
      " 92%|██████████████████████████████████████████████████████████▊     | 169/184 [00:18<00:01,  9.08it/s]\u001b[A"
     ]
    },
    {
     "name": "stdout",
     "output_type": "stream",
     "text": [
      "Using 3 parameters calibration,  Warning calibB is -ML2\n",
      "Using 3 parameters calibration,  Warning calibB is -ML2\n",
      "Using 3 parameters calibration,  Warning calibB is -ML2\n"
     ]
    },
    {
     "name": "stderr",
     "output_type": "stream",
     "text": [
      "\n",
      " 93%|███████████████████████████████████████████████████████████▍    | 171/184 [00:18<00:01,  9.55it/s]\u001b[A\n",
      " 94%|████████████████████████████████████████████████████████████▏   | 173/184 [00:18<00:01, 10.04it/s]\u001b[A"
     ]
    },
    {
     "name": "stdout",
     "output_type": "stream",
     "text": [
      "Using 3 parameters calibration,  Warning calibB is -ML2\n",
      "Using 3 parameters calibration,  Warning calibB is -ML2\n"
     ]
    },
    {
     "name": "stderr",
     "output_type": "stream",
     "text": [
      "\n",
      " 95%|████████████████████████████████████████████████████████████▊   | 175/184 [00:18<00:00,  9.13it/s]\u001b[A"
     ]
    },
    {
     "name": "stdout",
     "output_type": "stream",
     "text": [
      "Using 3 parameters calibration,  Warning calibB is -ML2\n",
      "Using 3 parameters calibration,  Warning calibB is -ML2\n",
      "Using 3 parameters calibration,  Warning calibB is -ML2\n"
     ]
    },
    {
     "name": "stderr",
     "output_type": "stream",
     "text": [
      "\n",
      " 96%|█████████████████████████████████████████████████████████████▌  | 177/184 [00:18<00:00,  9.68it/s]\u001b[A"
     ]
    },
    {
     "name": "stdout",
     "output_type": "stream",
     "text": [
      "Using 3 parameters calibration,  Warning calibB is -ML2\n",
      "Using 3 parameters calibration,  Warning calibB is -ML2\n"
     ]
    },
    {
     "name": "stderr",
     "output_type": "stream",
     "text": [
      "\n",
      " 97%|██████████████████████████████████████████████████████████████▎ | 179/184 [00:19<00:00,  9.04it/s]\u001b[A"
     ]
    },
    {
     "name": "stdout",
     "output_type": "stream",
     "text": [
      "Using 3 parameters calibration,  Warning calibB is -ML2\n",
      "Using 3 parameters calibration,  Warning calibB is -ML2\n",
      "Using 3 parameters calibration,  Warning calibB is -ML2\n"
     ]
    },
    {
     "name": "stderr",
     "output_type": "stream",
     "text": [
      "\n",
      " 98%|██████████████████████████████████████████████████████████████▉ | 181/184 [00:19<00:00,  9.48it/s]\u001b[A\n",
      " 99%|███████████████████████████████████████████████████████████████▋| 183/184 [00:19<00:00, 10.02it/s]\u001b[A"
     ]
    },
    {
     "name": "stdout",
     "output_type": "stream",
     "text": [
      "Using 3 parameters calibration,  Warning calibB is -ML2\n",
      "Using 3 parameters calibration,  Warning calibB is -ML2\n"
     ]
    },
    {
     "name": "stderr",
     "output_type": "stream",
     "text": [
      "100%|████████████████████████████████████████████████████████████████| 184/184 [00:19<00:00,  9.34it/s]\n",
      "100%|████████████████████████████████████████████████████████████████████| 1/1 [00:20<00:00, 20.43s/it]"
     ]
    },
    {
     "name": "stdout",
     "output_type": "stream",
     "text": [
      "Using 3 parameters calibration,  Warning calibB is -ML2\n"
     ]
    },
    {
     "name": "stderr",
     "output_type": "stream",
     "text": [
      "\n"
     ]
    }
   ],
   "source": [
    "scms = scMSData()\n",
    "scms.processICRData(['../data/Protoplast_data_fast.d'], mz_range=(400,1000), multiple=True,\n",
    "                    temp_path='../data/fid_temp.d')"
   ]
  },
  {
   "cell_type": "code",
   "execution_count": 3,
   "metadata": {},
   "outputs": [
    {
     "data": {
      "text/plain": [
       "[<matplotlib.lines.Line2D at 0x7f9809fc75e0>]"
      ]
     },
     "execution_count": 3,
     "metadata": {},
     "output_type": "execute_result"
    },
    {
     "data": {
      "image/png": "[encoded data removed]",
      "text/plain": [
       "<Figure size 640x480 with 1 Axes>"
      ]
     },
     "metadata": {},
     "output_type": "display_data"
    }
   ],
   "source": [
    "plt.plot(scms.peak_list['../data/Protoplast_data_fast.d1']['mzs'],\n",
    "         scms.peak_list['../data/Protoplast_data_fast.d1']['intensity'])"
   ]
  },
  {
   "cell_type": "code",
   "execution_count": 4,
   "metadata": {},
   "outputs": [
    {
     "data": {
      "text/plain": [
       "[<matplotlib.lines.Line2D at 0x7f97e8406df0>]"
      ]
     },
     "execution_count": 4,
     "metadata": {},
     "output_type": "execute_result"
    },
    {
     "data": {
      "image/png": "[encoded data removed]",
      "text/plain": [
       "<Figure size 640x480 with 1 Axes>"
      ]
     },
     "metadata": {},
     "output_type": "display_data"
    }
   ],
   "source": [
    "params, fid = scms.loadICRData('../data/Protoplast_data_fast.d',idx=19)\n",
    "#plt.figure()\n",
    "plt.plot(params['t'],fid[0],rasterized=True,c='k')\n",
    "#plt.savefig('figures/transient.pdf')"
   ]
  },
  {
   "cell_type": "code",
   "execution_count": 6,
   "metadata": {
    "collapsed": true
   },
   "outputs": [],
   "source": [
    "spectra_show = widgets.interactive(scms.show_ICRSpectra,\n",
    "                                   path='../data/Protoplast_data_fast.d',\n",
    "                                   mz_low=815.3, mz_high=815.6,peak_centroid=False,temp_path='../data/fid_temp.d',\n",
    "                                  idx=1,multiple=True)"
   ]
  },
  {
   "cell_type": "code",
   "execution_count": 7,
   "metadata": {},
   "outputs": [],
   "source": [
    "spectra_show"
   ]
  },
  {
   "cell_type": "code",
   "execution_count": null,
   "metadata": {
    "collapsed": true
   },
   "outputs": [],
   "source": []
  }
 ],
 "metadata": {
  "kernelspec": {
   "display_name": "datsigma",
   "language": "python",
   "name": "datsigma"
  },
  "language_info": {
   "codemirror_mode": {
    "name": "ipython",
    "version": 3
   },
   "file_extension": ".py",
   "mimetype": "text/x-python",
   "name": "python",
   "nbconvert_exporter": "python",
   "pygments_lexer": "ipython3",
   "version": "3.8.16"
  }
 },
 "nbformat": 4,
 "nbformat_minor": 2
}
