{
 "cells": [
  {
   "cell_type": "code",
   "execution_count": 1,
   "metadata": {
    "tags": []
   },
   "outputs": [
    {
     "name": "stdout",
     "output_type": "stream",
     "text": [
      "\n",
      "    ========================\n",
      "          SPIKE\n",
      "    ========================\n",
      "    Version     : 0.99.30\n",
      "    Date        : 22-03-2022\n",
      "    Revision Id : 563\n",
      "    ========================\n",
      "*** zoom3D not loaded ***\n",
      "plugins loaded:\n",
      "Fitter,  Linear_prediction,  Peaks,  bcorr,  fastclean,  gaussenh,  rem_ridge,  sane,  sg,  test,  urQRd, \n",
      "\n",
      "spike.plugins.report() for a short description of each plugins\n",
      "spike.plugins.report('module_name') for complete documentation on one plugin\n",
      "plugins loaded:\n",
      "FTMS_calib,  PhaseMS,  diagonal_2DMS, \n"
     ]
    }
   ],
   "source": [
    "import os\n",
    "from glob import glob\n",
    "import sys\n",
    "sys.path.append('../scms_py')\n",
    "from scMSData import scMSData\n",
    "from analysis import scMSAnalysis\n",
    "\n",
    "from microMSData import microMSData\n",
    "from processing import *\n",
    "from tqdm import tqdm\n",
    "import pandas as pd\n",
    "\n",
    "from scipy.stats import spearmanr, ttest_ind\n",
    "import seaborn as sns\n",
    "import anndata\n",
    "import scanpy as sc\n",
    "import matplotlib.pyplot as plt\n",
    "from sklearn.metrics import accuracy_score"
   ]
  },
  {
   "cell_type": "code",
   "execution_count": 2,
   "metadata": {
    "collapsed": true
   },
   "outputs": [],
   "source": [
    "import ipywidgets as widgets\n",
    "from ipywidgets import Box, IntSlider\n",
    "#%matplotlib widget"
   ]
  },
  {
   "cell_type": "code",
   "execution_count": 7,
   "metadata": {},
   "outputs": [
    {
     "name": "stderr",
     "output_type": "stream",
     "text": [
      "100%|███████████████████████████████████████| 2398/2398 [01:19<00:00, 30.21it/s]\n"
     ]
    }
   ],
   "source": [
    "scms = scMSData()\n",
    "path = '20210825_AstroNeuron_and_Unfixed/Stained'\n",
    "file_paths = scms.getXMLPath(path)\n",
    "scms.loadXMLData()"
   ]
  },
  {
   "cell_type": "code",
   "execution_count": 9,
   "metadata": {},
   "outputs": [
    {
     "name": "stdout",
     "output_type": "stream",
     "text": [
      "TODO: convert indices into real world coordinates\n",
      "loaded spectra\n",
      "file loaded\n"
     ]
    }
   ],
   "source": [
    "#scms.convertPeak2imzML(path)\n",
    "scms.loadimzMLData('20210825_AstroNeuron_and_Unfixed/Stained.imzML')"
   ]
  },
  {
   "cell_type": "code",
   "execution_count": 10,
   "metadata": {},
   "outputs": [
    {
     "name": "stdout",
     "output_type": "stream",
     "text": [
      "number of mass bins 101162\n"
     ]
    },
    {
     "name": "stderr",
     "output_type": "stream",
     "text": [
      "100%|████████████████████████████████| 101162/101162 [00:05<00:00, 19515.29it/s]\n"
     ]
    }
   ],
   "source": [
    "scms.getIntensMtxData(ppm=5, feature_n=0.1, mz_range=(400,1100))"
   ]
  },
  {
   "cell_type": "code",
   "execution_count": 15,
   "metadata": {},
   "outputs": [
    {
     "data": {
      "text/html": [
       "<div>\n",
       "<style scoped>\n",
       "    .dataframe tbody tr th:only-of-type {\n",
       "        vertical-align: middle;\n",
       "    }\n",
       "\n",
       "    .dataframe tbody tr th {\n",
       "        vertical-align: top;\n",
       "    }\n",
       "\n",
       "    .dataframe thead th {\n",
       "        text-align: right;\n",
       "    }\n",
       "</style>\n",
       "<table border=\"1\" class=\"dataframe\">\n",
       "  <thead>\n",
       "    <tr style=\"text-align: right;\">\n",
       "      <th></th>\n",
       "      <th>400.084008</th>\n",
       "      <th>400.088009</th>\n",
       "      <th>400.292105</th>\n",
       "      <th>401.157666</th>\n",
       "      <th>401.274018</th>\n",
       "      <th>401.322174</th>\n",
       "      <th>402.089428</th>\n",
       "      <th>402.177897</th>\n",
       "      <th>404.294872</th>\n",
       "      <th>404.298915</th>\n",
       "      <th>...</th>\n",
       "      <th>1099.058841</th>\n",
       "      <th>1099.630497</th>\n",
       "      <th>1099.641494</th>\n",
       "      <th>1099.652490</th>\n",
       "      <th>1099.850444</th>\n",
       "      <th>1099.861443</th>\n",
       "      <th>1099.916437</th>\n",
       "      <th>1099.927436</th>\n",
       "      <th>1099.993433</th>\n",
       "      <th>1100.004433</th>\n",
       "    </tr>\n",
       "  </thead>\n",
       "  <tbody>\n",
       "    <tr>\n",
       "      <th>x_78670y_14905</th>\n",
       "      <td>0.000000</td>\n",
       "      <td>0.000000</td>\n",
       "      <td>0.000000</td>\n",
       "      <td>0.000000</td>\n",
       "      <td>47354.800781</td>\n",
       "      <td>0.0</td>\n",
       "      <td>0.0</td>\n",
       "      <td>0.000000</td>\n",
       "      <td>0.0</td>\n",
       "      <td>86690.203125</td>\n",
       "      <td>...</td>\n",
       "      <td>0.000000</td>\n",
       "      <td>0.000000</td>\n",
       "      <td>0.00000</td>\n",
       "      <td>0.0</td>\n",
       "      <td>0.0</td>\n",
       "      <td>89995.296875</td>\n",
       "      <td>0.0</td>\n",
       "      <td>0.000000</td>\n",
       "      <td>0.0</td>\n",
       "      <td>0.000000</td>\n",
       "    </tr>\n",
       "    <tr>\n",
       "      <th>x_75424y_12641</th>\n",
       "      <td>0.000000</td>\n",
       "      <td>0.000000</td>\n",
       "      <td>0.000000</td>\n",
       "      <td>0.000000</td>\n",
       "      <td>58650.500000</td>\n",
       "      <td>0.0</td>\n",
       "      <td>0.0</td>\n",
       "      <td>0.000000</td>\n",
       "      <td>0.0</td>\n",
       "      <td>0.000000</td>\n",
       "      <td>...</td>\n",
       "      <td>0.000000</td>\n",
       "      <td>0.000000</td>\n",
       "      <td>0.00000</td>\n",
       "      <td>0.0</td>\n",
       "      <td>0.0</td>\n",
       "      <td>0.000000</td>\n",
       "      <td>0.0</td>\n",
       "      <td>76516.898438</td>\n",
       "      <td>0.0</td>\n",
       "      <td>0.000000</td>\n",
       "    </tr>\n",
       "    <tr>\n",
       "      <th>x_53921y_23026</th>\n",
       "      <td>0.000000</td>\n",
       "      <td>0.000000</td>\n",
       "      <td>0.000000</td>\n",
       "      <td>48472.800781</td>\n",
       "      <td>76569.000000</td>\n",
       "      <td>0.0</td>\n",
       "      <td>0.0</td>\n",
       "      <td>0.000000</td>\n",
       "      <td>0.0</td>\n",
       "      <td>54752.699219</td>\n",
       "      <td>...</td>\n",
       "      <td>0.000000</td>\n",
       "      <td>0.000000</td>\n",
       "      <td>0.00000</td>\n",
       "      <td>0.0</td>\n",
       "      <td>0.0</td>\n",
       "      <td>0.000000</td>\n",
       "      <td>0.0</td>\n",
       "      <td>0.000000</td>\n",
       "      <td>0.0</td>\n",
       "      <td>109299.703125</td>\n",
       "    </tr>\n",
       "    <tr>\n",
       "      <th>x_72249y_20711</th>\n",
       "      <td>0.000000</td>\n",
       "      <td>0.000000</td>\n",
       "      <td>0.000000</td>\n",
       "      <td>0.000000</td>\n",
       "      <td>0.000000</td>\n",
       "      <td>0.0</td>\n",
       "      <td>0.0</td>\n",
       "      <td>0.000000</td>\n",
       "      <td>0.0</td>\n",
       "      <td>470738.609375</td>\n",
       "      <td>...</td>\n",
       "      <td>0.000000</td>\n",
       "      <td>0.000000</td>\n",
       "      <td>236176.90625</td>\n",
       "      <td>0.0</td>\n",
       "      <td>0.0</td>\n",
       "      <td>0.000000</td>\n",
       "      <td>0.0</td>\n",
       "      <td>0.000000</td>\n",
       "      <td>0.0</td>\n",
       "      <td>0.000000</td>\n",
       "    </tr>\n",
       "    <tr>\n",
       "      <th>x_68860y_20467</th>\n",
       "      <td>0.000000</td>\n",
       "      <td>49708.398438</td>\n",
       "      <td>0.000000</td>\n",
       "      <td>0.000000</td>\n",
       "      <td>76798.796875</td>\n",
       "      <td>0.0</td>\n",
       "      <td>0.0</td>\n",
       "      <td>0.000000</td>\n",
       "      <td>94790.0</td>\n",
       "      <td>161746.000000</td>\n",
       "      <td>...</td>\n",
       "      <td>0.000000</td>\n",
       "      <td>0.000000</td>\n",
       "      <td>0.00000</td>\n",
       "      <td>0.0</td>\n",
       "      <td>0.0</td>\n",
       "      <td>0.000000</td>\n",
       "      <td>0.0</td>\n",
       "      <td>129846.703125</td>\n",
       "      <td>0.0</td>\n",
       "      <td>0.000000</td>\n",
       "    </tr>\n",
       "    <tr>\n",
       "      <th>...</th>\n",
       "      <td>...</td>\n",
       "      <td>...</td>\n",
       "      <td>...</td>\n",
       "      <td>...</td>\n",
       "      <td>...</td>\n",
       "      <td>...</td>\n",
       "      <td>...</td>\n",
       "      <td>...</td>\n",
       "      <td>...</td>\n",
       "      <td>...</td>\n",
       "      <td>...</td>\n",
       "      <td>...</td>\n",
       "      <td>...</td>\n",
       "      <td>...</td>\n",
       "      <td>...</td>\n",
       "      <td>...</td>\n",
       "      <td>...</td>\n",
       "      <td>...</td>\n",
       "      <td>...</td>\n",
       "      <td>...</td>\n",
       "      <td>...</td>\n",
       "    </tr>\n",
       "    <tr>\n",
       "      <th>x_28214y_13828</th>\n",
       "      <td>0.000000</td>\n",
       "      <td>45339.101562</td>\n",
       "      <td>0.000000</td>\n",
       "      <td>0.000000</td>\n",
       "      <td>0.000000</td>\n",
       "      <td>41186.5</td>\n",
       "      <td>0.0</td>\n",
       "      <td>41062.199219</td>\n",
       "      <td>0.0</td>\n",
       "      <td>0.000000</td>\n",
       "      <td>...</td>\n",
       "      <td>78465.601562</td>\n",
       "      <td>0.000000</td>\n",
       "      <td>0.00000</td>\n",
       "      <td>0.0</td>\n",
       "      <td>0.0</td>\n",
       "      <td>0.000000</td>\n",
       "      <td>0.0</td>\n",
       "      <td>0.000000</td>\n",
       "      <td>0.0</td>\n",
       "      <td>0.000000</td>\n",
       "    </tr>\n",
       "    <tr>\n",
       "      <th>x_33332y_14810</th>\n",
       "      <td>64534.199219</td>\n",
       "      <td>0.000000</td>\n",
       "      <td>0.000000</td>\n",
       "      <td>0.000000</td>\n",
       "      <td>0.000000</td>\n",
       "      <td>0.0</td>\n",
       "      <td>0.0</td>\n",
       "      <td>0.000000</td>\n",
       "      <td>0.0</td>\n",
       "      <td>0.000000</td>\n",
       "      <td>...</td>\n",
       "      <td>0.000000</td>\n",
       "      <td>0.000000</td>\n",
       "      <td>95883.00000</td>\n",
       "      <td>0.0</td>\n",
       "      <td>0.0</td>\n",
       "      <td>0.000000</td>\n",
       "      <td>0.0</td>\n",
       "      <td>0.000000</td>\n",
       "      <td>0.0</td>\n",
       "      <td>0.000000</td>\n",
       "    </tr>\n",
       "    <tr>\n",
       "      <th>x_28701y_13272</th>\n",
       "      <td>44070.500000</td>\n",
       "      <td>0.000000</td>\n",
       "      <td>44620.199219</td>\n",
       "      <td>0.000000</td>\n",
       "      <td>0.000000</td>\n",
       "      <td>0.0</td>\n",
       "      <td>0.0</td>\n",
       "      <td>37858.199219</td>\n",
       "      <td>0.0</td>\n",
       "      <td>0.000000</td>\n",
       "      <td>...</td>\n",
       "      <td>88093.703125</td>\n",
       "      <td>154306.296875</td>\n",
       "      <td>0.00000</td>\n",
       "      <td>0.0</td>\n",
       "      <td>0.0</td>\n",
       "      <td>0.000000</td>\n",
       "      <td>0.0</td>\n",
       "      <td>0.000000</td>\n",
       "      <td>0.0</td>\n",
       "      <td>0.000000</td>\n",
       "    </tr>\n",
       "    <tr>\n",
       "      <th>x_79867y_10375</th>\n",
       "      <td>0.000000</td>\n",
       "      <td>41247.699219</td>\n",
       "      <td>0.000000</td>\n",
       "      <td>0.000000</td>\n",
       "      <td>0.000000</td>\n",
       "      <td>0.0</td>\n",
       "      <td>0.0</td>\n",
       "      <td>0.000000</td>\n",
       "      <td>0.0</td>\n",
       "      <td>0.000000</td>\n",
       "      <td>...</td>\n",
       "      <td>136161.703125</td>\n",
       "      <td>0.000000</td>\n",
       "      <td>76449.50000</td>\n",
       "      <td>0.0</td>\n",
       "      <td>0.0</td>\n",
       "      <td>0.000000</td>\n",
       "      <td>0.0</td>\n",
       "      <td>0.000000</td>\n",
       "      <td>0.0</td>\n",
       "      <td>0.000000</td>\n",
       "    </tr>\n",
       "    <tr>\n",
       "      <th>x_77440y_11771</th>\n",
       "      <td>55924.699219</td>\n",
       "      <td>0.000000</td>\n",
       "      <td>46079.398438</td>\n",
       "      <td>0.000000</td>\n",
       "      <td>0.000000</td>\n",
       "      <td>0.0</td>\n",
       "      <td>0.0</td>\n",
       "      <td>38998.300781</td>\n",
       "      <td>0.0</td>\n",
       "      <td>0.000000</td>\n",
       "      <td>...</td>\n",
       "      <td>82695.500000</td>\n",
       "      <td>116959.898438</td>\n",
       "      <td>0.00000</td>\n",
       "      <td>0.0</td>\n",
       "      <td>0.0</td>\n",
       "      <td>0.000000</td>\n",
       "      <td>0.0</td>\n",
       "      <td>0.000000</td>\n",
       "      <td>0.0</td>\n",
       "      <td>0.000000</td>\n",
       "    </tr>\n",
       "  </tbody>\n",
       "</table>\n",
       "<p>2398 rows × 8190 columns</p>\n",
       "</div>"
      ],
      "text/plain": [
       "                 400.084008    400.088009    400.292105    401.157666   \\\n",
       "x_78670y_14905      0.000000      0.000000      0.000000      0.000000   \n",
       "x_75424y_12641      0.000000      0.000000      0.000000      0.000000   \n",
       "x_53921y_23026      0.000000      0.000000      0.000000  48472.800781   \n",
       "x_72249y_20711      0.000000      0.000000      0.000000      0.000000   \n",
       "x_68860y_20467      0.000000  49708.398438      0.000000      0.000000   \n",
       "...                      ...           ...           ...           ...   \n",
       "x_28214y_13828      0.000000  45339.101562      0.000000      0.000000   \n",
       "x_33332y_14810  64534.199219      0.000000      0.000000      0.000000   \n",
       "x_28701y_13272  44070.500000      0.000000  44620.199219      0.000000   \n",
       "x_79867y_10375      0.000000  41247.699219      0.000000      0.000000   \n",
       "x_77440y_11771  55924.699219      0.000000  46079.398438      0.000000   \n",
       "\n",
       "                 401.274018   401.322174   402.089428    402.177897   \\\n",
       "x_78670y_14905  47354.800781          0.0          0.0      0.000000   \n",
       "x_75424y_12641  58650.500000          0.0          0.0      0.000000   \n",
       "x_53921y_23026  76569.000000          0.0          0.0      0.000000   \n",
       "x_72249y_20711      0.000000          0.0          0.0      0.000000   \n",
       "x_68860y_20467  76798.796875          0.0          0.0      0.000000   \n",
       "...                      ...          ...          ...           ...   \n",
       "x_28214y_13828      0.000000      41186.5          0.0  41062.199219   \n",
       "x_33332y_14810      0.000000          0.0          0.0      0.000000   \n",
       "x_28701y_13272      0.000000          0.0          0.0  37858.199219   \n",
       "x_79867y_10375      0.000000          0.0          0.0      0.000000   \n",
       "x_77440y_11771      0.000000          0.0          0.0  38998.300781   \n",
       "\n",
       "                404.294872     404.298915   ...    1099.058841    1099.630497  \\\n",
       "x_78670y_14905          0.0   86690.203125  ...       0.000000       0.000000   \n",
       "x_75424y_12641          0.0       0.000000  ...       0.000000       0.000000   \n",
       "x_53921y_23026          0.0   54752.699219  ...       0.000000       0.000000   \n",
       "x_72249y_20711          0.0  470738.609375  ...       0.000000       0.000000   \n",
       "x_68860y_20467      94790.0  161746.000000  ...       0.000000       0.000000   \n",
       "...                     ...            ...  ...            ...            ...   \n",
       "x_28214y_13828          0.0       0.000000  ...   78465.601562       0.000000   \n",
       "x_33332y_14810          0.0       0.000000  ...       0.000000       0.000000   \n",
       "x_28701y_13272          0.0       0.000000  ...   88093.703125  154306.296875   \n",
       "x_79867y_10375          0.0       0.000000  ...  136161.703125       0.000000   \n",
       "x_77440y_11771          0.0       0.000000  ...   82695.500000  116959.898438   \n",
       "\n",
       "                 1099.641494  1099.652490  1099.850444   1099.861443  \\\n",
       "x_78670y_14905       0.00000          0.0          0.0  89995.296875   \n",
       "x_75424y_12641       0.00000          0.0          0.0      0.000000   \n",
       "x_53921y_23026       0.00000          0.0          0.0      0.000000   \n",
       "x_72249y_20711  236176.90625          0.0          0.0      0.000000   \n",
       "x_68860y_20467       0.00000          0.0          0.0      0.000000   \n",
       "...                      ...          ...          ...           ...   \n",
       "x_28214y_13828       0.00000          0.0          0.0      0.000000   \n",
       "x_33332y_14810   95883.00000          0.0          0.0      0.000000   \n",
       "x_28701y_13272       0.00000          0.0          0.0      0.000000   \n",
       "x_79867y_10375   76449.50000          0.0          0.0      0.000000   \n",
       "x_77440y_11771       0.00000          0.0          0.0      0.000000   \n",
       "\n",
       "                1099.916437    1099.927436  1099.993433    1100.004433  \n",
       "x_78670y_14905          0.0       0.000000          0.0       0.000000  \n",
       "x_75424y_12641          0.0   76516.898438          0.0       0.000000  \n",
       "x_53921y_23026          0.0       0.000000          0.0  109299.703125  \n",
       "x_72249y_20711          0.0       0.000000          0.0       0.000000  \n",
       "x_68860y_20467          0.0  129846.703125          0.0       0.000000  \n",
       "...                     ...            ...          ...            ...  \n",
       "x_28214y_13828          0.0       0.000000          0.0       0.000000  \n",
       "x_33332y_14810          0.0       0.000000          0.0       0.000000  \n",
       "x_28701y_13272          0.0       0.000000          0.0       0.000000  \n",
       "x_79867y_10375          0.0       0.000000          0.0       0.000000  \n",
       "x_77440y_11771          0.0       0.000000          0.0       0.000000  \n",
       "\n",
       "[2398 rows x 8190 columns]"
      ]
     },
     "execution_count": 15,
     "metadata": {},
     "output_type": "execute_result"
    }
   ],
   "source": [
    "scms.intens_mtx"
   ]
  },
  {
   "cell_type": "code",
   "execution_count": 11,
   "metadata": {
    "collapsed": true
   },
   "outputs": [],
   "source": [
    "file_dir = './20210825_AstroNeuron_and_Unfixed'\n",
    "\n",
    "coords_file_paths = [file_dir+'/Stained/Slide1_AstroNeuron/Cells_45minsize_dist.txt',\n",
    "                    file_dir+'/Stained/Slide2_AstroNeuron/Cells2_dist.txt']\n",
    "image_path_dicts = [{'bf':(file_dir+'/Slide1_AstroNeuron_GFAP_L1CAM_081421/c1.tif',0),\n",
    "                    'dapi':(file_dir+'/Slide1_AstroNeuron_GFAP_L1CAM_081421/c2.tif',2),\n",
    "                    'L1CAM':(file_dir+'/Slide1_AstroNeuron_GFAP_L1CAM_081421/c3.tif',0)},\n",
    "                   {'bf':(file_dir+'/Slide2_AstroNeuron_GFAP_L1CAM_081421/c1.tif',0),\n",
    "                    'dapi':(file_dir+'/Slide2_AstroNeuron_GFAP_L1CAM_081421/c2.tif',2),\n",
    "                    'L1CAM':(file_dir+'/Slide2_AstroNeuron_GFAP_L1CAM_081421/c3.tif',0)}]"
   ]
  },
  {
   "cell_type": "code",
   "execution_count": 12,
   "metadata": {},
   "outputs": [
    {
     "name": "stdout",
     "output_type": "stream",
     "text": [
      "processing bf image\n",
      "parsing 1230 coordinates for cell locations...\n",
      "processing dapi image\n",
      "parsing 1230 coordinates for cell locations...\n",
      "processing L1CAM image\n",
      "parsing 1230 coordinates for cell locations...\n",
      "processing bf image\n",
      "parsing 1168 coordinates for cell locations...\n",
      "processing dapi image\n",
      "parsing 1168 coordinates for cell locations...\n",
      "processing L1CAM image\n",
      "parsing 1168 coordinates for cell locations...\n"
     ]
    }
   ],
   "source": [
    "microms = microMSData(coords_file_paths, image_path_dicts)\n",
    "microms.getCellImgs(crop_size=32)"
   ]
  },
  {
   "cell_type": "code",
   "execution_count": 13,
   "metadata": {
    "collapsed": true
   },
   "outputs": [],
   "source": [
    "cell_select = widgets.interactive(microms.select_micromsIntens,\n",
    "                                   channel1=list(image_path_dicts[0].keys()),\n",
    "                                   channel2=list(image_path_dicts[0].keys()));"
   ]
  },
  {
   "cell_type": "code",
   "execution_count": 14,
   "metadata": {},
   "outputs": [
    {
     "data": {
      "application/vnd.jupyter.widget-view+json": {
       "model_id": "7d31e5b21b024772942f96ab264962ba",
       "version_major": 2,
       "version_minor": 0
      },
      "text/plain": [
       "interactive(children=(Dropdown(description='channel1', options=('bf', 'dapi', 'L1CAM'), value='bf'), Dropdown(…"
      ]
     },
     "metadata": {},
     "output_type": "display_data"
    }
   ],
   "source": [
    "cell_select"
   ]
  },
  {
   "cell_type": "code",
   "execution_count": 104,
   "metadata": {
    "collapsed": true
   },
   "outputs": [],
   "source": [
    "plt.savefig('figures/microms_intens.pdf')"
   ]
  },
  {
   "cell_type": "code",
   "execution_count": 16,
   "metadata": {
    "collapsed": true
   },
   "outputs": [],
   "source": [
    "cell_show = widgets.interactive(microms.show_cellImgs,\n",
    "                                       name=microms.obs.index[microms.obs['use']==True]);"
   ]
  },
  {
   "cell_type": "code",
   "execution_count": 17,
   "metadata": {},
   "outputs": [
    {
     "data": {
      "application/vnd.jupyter.widget-view+json": {
       "model_id": "7f832a651e524a91a95f97bd7ec38e60",
       "version_major": 2,
       "version_minor": 0
      },
      "text/plain": [
       "interactive(children=(Dropdown(description='name', options=('x_26026y_14136', 'x_27304y_17774', 'x_24821y_1891…"
      ]
     },
     "metadata": {},
     "output_type": "display_data"
    }
   ],
   "source": [
    "cell_show\n",
    "#x_50769y_16421,x_68122y_14151,x_67470y_16314"
   ]
  },
  {
   "cell_type": "code",
   "execution_count": 110,
   "metadata": {
    "collapsed": true
   },
   "outputs": [],
   "source": [
    "plt.savefig('figures/cell_stain3.pdf')"
   ]
  },
  {
   "cell_type": "code",
   "execution_count": 21,
   "metadata": {},
   "outputs": [
    {
     "name": "stderr",
     "output_type": "stream",
     "text": [
      "/var/folders/gw/5vpnntfj7dg102qjxmy0d4yh0000gn/T/ipykernel_70581/3144840360.py:1: UserWarning: Boolean Series key will be reindexed to match DataFrame index.\n",
      "  sc_data = scms.intens_mtx[microms.obs['use']]\n"
     ]
    }
   ],
   "source": [
    "sc_data = scms.intens_mtx[microms.obs['use']]"
   ]
  },
  {
   "cell_type": "code",
   "execution_count": 22,
   "metadata": {},
   "outputs": [
    {
     "name": "stdout",
     "output_type": "stream",
     "text": [
      "filtered intensity matrix with shape (516, 8186)\n"
     ]
    }
   ],
   "source": [
    "sc_icc = scMSAnalysis()\n",
    "sc_icc.preprocessing(sc_data,norm_method='rms',feat_drop_rate=0.05,cell_drop_rate=0.05)"
   ]
  },
  {
   "cell_type": "code",
   "execution_count": 23,
   "metadata": {},
   "outputs": [
    {
     "data": {
      "text/plain": [
       "<matplotlib.legend.Legend at 0x7fb9f14fe340>"
      ]
     },
     "execution_count": 23,
     "metadata": {},
     "output_type": "execute_result"
    },
    {
     "data": {
      "image/png": "[encoded data removed]",
      "text/plain": [
       "<Figure size 432x288 with 1 Axes>"
      ]
     },
     "metadata": {
      "needs_background": "light"
     },
     "output_type": "display_data"
    }
   ],
   "source": [
    "cell1 = sc_icc.intens_mtx.loc['x_50769y_16421']\n",
    "cell2 = sc_icc.intens_mtx.loc['x_68122y_14151']\n",
    "cell3 = sc_icc.intens_mtx.loc['x_67470y_16314']\n",
    "plt.figure()\n",
    "plt.plot(sc_icc.intens_mtx.columns.astype(float),cell1,c='red',label='cell 1')\n",
    "plt.plot(sc_icc.intens_mtx.columns.astype(float),cell2,c='slategray',label='cell 2')\n",
    "plt.plot(sc_icc.intens_mtx.columns.astype(float),cell3,c='orange',label='cell 3')\n",
    "plt.legend()"
   ]
  },
  {
   "cell_type": "code",
   "execution_count": 138,
   "metadata": {
    "collapsed": true
   },
   "outputs": [],
   "source": [
    "plt.savefig('figures/sc_spectra_cells.pdf')"
   ]
  },
  {
   "cell_type": "code",
   "execution_count": 24,
   "metadata": {},
   "outputs": [
    {
     "name": "stdout",
     "output_type": "stream",
     "text": [
      "computing neighbors..\n",
      "performing umap...\n",
      "performing clustering...\n"
     ]
    }
   ],
   "source": [
    "sc_icc.analyze(n_neighbors=30, n_pcs=30, min_dist=0.7, resolution = 0.3, categories=['leiden'])"
   ]
  },
  {
   "cell_type": "code",
   "execution_count": 25,
   "metadata": {
    "collapsed": true
   },
   "outputs": [],
   "source": [
    "show_embed = widgets.interactive(sc_icc.show_cellEmbed, label=sc_icc.adata.obs.columns,\n",
    "                                 embed_method=sc_icc.adata.obsm.keys(),size=(0.5,10,0.1));"
   ]
  },
  {
   "cell_type": "code",
   "execution_count": 26,
   "metadata": {},
   "outputs": [
    {
     "data": {
      "application/vnd.jupyter.widget-view+json": {
       "model_id": "92110c67b4964455bcdfc45b0acd5170",
       "version_major": 2,
       "version_minor": 0
      },
      "text/plain": [
       "interactive(children=(Dropdown(description='label', options=('leiden',), value='leiden'), Dropdown(description…"
      ]
     },
     "metadata": {},
     "output_type": "display_data"
    }
   ],
   "source": [
    "show_embed"
   ]
  },
  {
   "cell_type": "code",
   "execution_count": 141,
   "metadata": {
    "collapsed": true
   },
   "outputs": [],
   "source": [
    "plt.savefig('figures/umap_immuno_neuron.pdf')"
   ]
  },
  {
   "cell_type": "code",
   "execution_count": 78,
   "metadata": {
    "collapsed": true
   },
   "outputs": [],
   "source": [
    "# cluster = '1'\n",
    "# # cell_show = widgets.interactive(microms.show_cellImgs,\n",
    "# #                                        name=adata.obs[adata.obs['leiden']==cluster].index);\n",
    "# spectra_show = widgets.interactive(microms.show_spectra,\n",
    "#                                        spectra=adata.obs[adata.obs['leiden']==cluster].index);"
   ]
  },
  {
   "cell_type": "code",
   "execution_count": 31,
   "metadata": {
    "collapsed": true
   },
   "outputs": [],
   "source": [
    "cluster = '4'\n",
    "cell_show = widgets.interactive(microms.show_cellImgs,\n",
    "                                       name=sc_icc.adata.obs[sc_icc.adata.obs['leiden']==cluster].index);\n",
    "# spectra_show = widgets.interactive(microms.show_spectra,\n",
    "#                                        spectra=adata.obs[adata.obs['leiden']==cluster].index);"
   ]
  },
  {
   "cell_type": "code",
   "execution_count": 28,
   "metadata": {},
   "outputs": [
    {
     "data": {
      "application/vnd.jupyter.widget-view+json": {
       "model_id": "b6100418fcef41f18ed0895b4fa825e1",
       "version_major": 2,
       "version_minor": 0
      },
      "text/plain": [
       "interactive(children=(Dropdown(description='name', options=('x_74322y_11687', 'x_73886y_12843', 'x_27923y_1829…"
      ]
     },
     "metadata": {},
     "output_type": "display_data"
    }
   ],
   "source": [
    "cell_show"
   ]
  },
  {
   "cell_type": "code",
   "execution_count": 32,
   "metadata": {
    "collapsed": true
   },
   "outputs": [],
   "source": [
    "sc_icc.get_labels(['leiden'])"
   ]
  },
  {
   "cell_type": "code",
   "execution_count": 33,
   "metadata": {
    "collapsed": true
   },
   "outputs": [],
   "source": [
    "label = 'leiden'\n",
    "show_feat = widgets.interactive(sc_icc.show_featrank, label = label, region = sc_icc.label_class[label], \n",
    "                                rank_by=sc_icc.feat_rank[label].keys(), num_select=10000,\n",
    "                                num_show=IntSlider(min=0, max=10000, step=20, value=0));"
   ]
  },
  {
   "cell_type": "code",
   "execution_count": 34,
   "metadata": {},
   "outputs": [
    {
     "data": {
      "application/vnd.jupyter.widget-view+json": {
       "model_id": "3dcea41033c247539c48f08d9e8b74dd",
       "version_major": 2,
       "version_minor": 0
      },
      "text/plain": [
       "interactive(children=(Text(value='leiden', description='label'), Dropdown(description='region', options=('0', …"
      ]
     },
     "metadata": {},
     "output_type": "display_data"
    }
   ],
   "source": [
    "show_feat"
   ]
  },
  {
   "cell_type": "code",
   "execution_count": 35,
   "metadata": {},
   "outputs": [
    {
     "data": {
      "image/png": "[encoded data removed]",
      "text/plain": [
       "<Figure size 360x288 with 1 Axes>"
      ]
     },
     "metadata": {
      "needs_background": "light"
     },
     "output_type": "display_data"
    }
   ],
   "source": [
    "fig,axes = plt.subplots(1,1,figsize=(5,4))\n",
    "axes.scatter(show_feat.result['logfoldchanges'],show_feat.result['pvals_adj'],s=8,c='slategray',edgecolors='none')\n",
    "axes.axvline(0,linestyle='--',c='k',alpha=0.5)\n",
    "axes.spines['right'].set_visible(False)\n",
    "axes.spines['top'].set_visible(False)\n",
    "plt.xlabel('log2(treated/nontreated)')\n",
    "plt.ylabel('-log10(p-values)')\n",
    "#plt.xlim([-6,6])\n",
    "plt.show()\n",
    "#plt.savefig('figures/volcano_str.pdf')"
   ]
  },
  {
   "cell_type": "code",
   "execution_count": 208,
   "metadata": {
    "collapsed": true
   },
   "outputs": [],
   "source": [
    "plt.savefig('figures/volcano_cluster4.pdf')"
   ]
  },
  {
   "cell_type": "code",
   "execution_count": 212,
   "metadata": {},
   "outputs": [
    {
     "name": "stderr",
     "output_type": "stream",
     "text": [
      "100%|█████████████████████████████████████████████| 2/2 [00:04<00:00,  2.14s/it]\n"
     ]
    }
   ],
   "source": [
    "#common_lev_mz = list(set(mz_lev[0])&set(mz_lev[1])&set(mz_lev[2])&set(mz_lev[3]))\n",
    "from analysis import *\n",
    "\n",
    "adducts = ['M+H','M+Na','M+K']\n",
    "site_url = 'https://www.lipidmaps.org/rest/moverz/LIPIDS'\n",
    "\n",
    "annot_df, matched, unmatched = LipidMaps_annotate(['697.4995','754.6178'], adducts, 5, site_url)"
   ]
  },
  {
   "cell_type": "code",
   "execution_count": 213,
   "metadata": {},
   "outputs": [
    {
     "data": {
      "text/html": [
       "<div>\n",
       "<style scoped>\n",
       "    .dataframe tbody tr th:only-of-type {\n",
       "        vertical-align: middle;\n",
       "    }\n",
       "\n",
       "    .dataframe tbody tr th {\n",
       "        vertical-align: top;\n",
       "    }\n",
       "\n",
       "    .dataframe thead th {\n",
       "        text-align: right;\n",
       "    }\n",
       "</style>\n",
       "<table border=\"1\" class=\"dataframe\">\n",
       "  <thead>\n",
       "    <tr style=\"text-align: right;\">\n",
       "      <th></th>\n",
       "      <th>Input m/z</th>\n",
       "      <th>Matched m/z</th>\n",
       "      <th>Delta</th>\n",
       "      <th>Name</th>\n",
       "      <th>Formula</th>\n",
       "      <th>Ion</th>\n",
       "    </tr>\n",
       "  </thead>\n",
       "  <tbody>\n",
       "    <tr>\n",
       "      <th>0</th>\n",
       "      <td>697.4995</td>\n",
       "      <td>697.5014</td>\n",
       "      <td>0.0019</td>\n",
       "      <td>LPG 30:0;O</td>\n",
       "      <td>C36H74O10P</td>\n",
       "      <td>[M+H]+</td>\n",
       "    </tr>\n",
       "    <tr>\n",
       "      <th>1</th>\n",
       "      <td>697.4995</td>\n",
       "      <td>697.5014</td>\n",
       "      <td>0.0019</td>\n",
       "      <td>PG O-30:0;O</td>\n",
       "      <td>C36H74O10P</td>\n",
       "      <td>[M+H]+</td>\n",
       "    </tr>\n",
       "    <tr>\n",
       "      <th>2</th>\n",
       "      <td>697.4995</td>\n",
       "      <td>697.5014</td>\n",
       "      <td>0.0019</td>\n",
       "      <td>DG 38:5;O2</td>\n",
       "      <td>C41H70O7Na</td>\n",
       "      <td>[M+Na]+</td>\n",
       "    </tr>\n",
       "    <tr>\n",
       "      <th>3</th>\n",
       "      <td>697.4995</td>\n",
       "      <td>697.5014</td>\n",
       "      <td>0.0019</td>\n",
       "      <td>TG 38:4;O</td>\n",
       "      <td>C41H70O7Na</td>\n",
       "      <td>[M+Na]+</td>\n",
       "    </tr>\n",
       "    <tr>\n",
       "      <th>4</th>\n",
       "      <td>697.4995</td>\n",
       "      <td>697.5014</td>\n",
       "      <td>0.0019</td>\n",
       "      <td>TG O-38:5;O2</td>\n",
       "      <td>C41H70O7Na</td>\n",
       "      <td>[M+Na]+</td>\n",
       "    </tr>\n",
       "    <tr>\n",
       "      <th>5</th>\n",
       "      <td>697.4995</td>\n",
       "      <td>697.5015</td>\n",
       "      <td>0.0020</td>\n",
       "      <td>TG O-35:0;O3</td>\n",
       "      <td>C38H74O8K</td>\n",
       "      <td>[M+K]+</td>\n",
       "    </tr>\n",
       "    <tr>\n",
       "      <th>6</th>\n",
       "      <td>754.6178</td>\n",
       "      <td>754.6191</td>\n",
       "      <td>0.0013</td>\n",
       "      <td>ACer 44:2;O6</td>\n",
       "      <td>C44H84NO8</td>\n",
       "      <td>[M+H]+</td>\n",
       "    </tr>\n",
       "    <tr>\n",
       "      <th>7</th>\n",
       "      <td>754.6178</td>\n",
       "      <td>754.6191</td>\n",
       "      <td>0.0013</td>\n",
       "      <td>DGCC 34:1</td>\n",
       "      <td>C44H84NO8</td>\n",
       "      <td>[M+H]+</td>\n",
       "    </tr>\n",
       "    <tr>\n",
       "      <th>8</th>\n",
       "      <td>754.6178</td>\n",
       "      <td>754.6191</td>\n",
       "      <td>0.0013</td>\n",
       "      <td>HexCer 38:2;O2</td>\n",
       "      <td>C44H84NO8</td>\n",
       "      <td>[M+H]+</td>\n",
       "    </tr>\n",
       "  </tbody>\n",
       "</table>\n",
       "</div>"
      ],
      "text/plain": [
       "   Input m/z  Matched m/z   Delta            Name     Formula             Ion\n",
       "0   697.4995     697.5014  0.0019      LPG 30:0;O  C36H74O10P          [M+H]+\n",
       "1   697.4995     697.5014  0.0019     PG O-30:0;O  C36H74O10P          [M+H]+\n",
       "2   697.4995     697.5014  0.0019      DG 38:5;O2  C41H70O7Na         [M+Na]+\n",
       "3   697.4995     697.5014  0.0019       TG 38:4;O  C41H70O7Na         [M+Na]+\n",
       "4   697.4995     697.5014  0.0019    TG O-38:5;O2  C41H70O7Na         [M+Na]+\n",
       "5   697.4995     697.5015  0.0020    TG O-35:0;O3   C38H74O8K          [M+K]+\n",
       "6   754.6178     754.6191  0.0013    ACer 44:2;O6   C44H84NO8          [M+H]+\n",
       "7   754.6178     754.6191  0.0013       DGCC 34:1   C44H84NO8          [M+H]+\n",
       "8   754.6178     754.6191  0.0013  HexCer 38:2;O2   C44H84NO8          [M+H]+"
      ]
     },
     "execution_count": 213,
     "metadata": {},
     "output_type": "execute_result"
    }
   ],
   "source": [
    "annot_df"
   ]
  },
  {
   "cell_type": "code",
   "execution_count": 193,
   "metadata": {},
   "outputs": [
    {
     "data": {
      "application/vnd.jupyter.widget-view+json": {
       "model_id": "970eb7953f124ef5bec0619518f78aac",
       "version_major": 2,
       "version_minor": 0
      },
      "text/plain": [
       "interactive(children=(Dropdown(description='features', options=('713.0501', '697.4995', '727.0473', '758.5823'…"
      ]
     },
     "metadata": {},
     "output_type": "display_data"
    }
   ],
   "source": [
    "show_featdist = widgets.interactive(sc_icc.show_featdist, features=show_feat.result['feature names'].astype(str),\n",
    "                                 embed_method=sc_icc.adata.obsm.keys(),size=(0.5,10,0.1));\n",
    "show_featdist"
   ]
  },
  {
   "cell_type": "code",
   "execution_count": 206,
   "metadata": {
    "collapsed": true
   },
   "outputs": [],
   "source": [
    "plt.savefig('figures/umap_mz754.pdf')"
   ]
  },
  {
   "cell_type": "code",
   "execution_count": null,
   "metadata": {
    "collapsed": true
   },
   "outputs": [],
   "source": []
  }
 ],
 "metadata": {
  "kernelspec": {
   "display_name": "scms",
   "language": "python",
   "name": "scms"
  },
  "language_info": {
   "codemirror_mode": {
    "name": "ipython",
    "version": 3
   },
   "file_extension": ".py",
   "mimetype": "text/x-python",
   "name": "python",
   "nbconvert_exporter": "python",
   "pygments_lexer": "ipython3",
   "version": "3.8.2"
  }
 },
 "nbformat": 4,
 "nbformat_minor": 5
}
