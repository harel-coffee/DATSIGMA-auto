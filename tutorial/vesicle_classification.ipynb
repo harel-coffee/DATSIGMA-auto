{
 "cells": [
  {
   "cell_type": "code",
   "execution_count": 1,
   "metadata": {},
   "outputs": [
    {
     "name": "stdout",
     "output_type": "stream",
     "text": [
      "\n",
      "    ========================\n",
      "          SPIKE\n",
      "    ========================\n",
      "    Version     : 0.99.30\n",
      "    Date        : 22-03-2022\n",
      "    Revision Id : 563\n",
      "    ========================\n",
      "*** zoom3D not loaded ***\n",
      "plugins loaded:\n",
      "Fitter,  Linear_prediction,  Peaks,  bcorr,  fastclean,  gaussenh,  rem_ridge,  sane,  sg,  test,  urQRd, \n",
      "\n",
      "spike.plugins.report() for a short description of each plugins\n",
      "spike.plugins.report('module_name') for complete documentation on one plugin\n",
      "plugins loaded:\n",
      "FTMS_calib,  PhaseMS,  diagonal_2DMS, \n"
     ]
    }
   ],
   "source": [
    "import pandas as pd\n",
    "import os\n",
    "import xml.etree.ElementTree as ET\n",
    "import matplotlib.pyplot as plt\n",
    "import sys\n",
    "import numpy as np\n",
    "import ipywidgets as widgets\n",
    "from ipywidgets import Box, IntSlider\n",
    "import seaborn as sns\n",
    "\n",
    "sys.path.append('../scms_py')\n",
    "from scMSData import scMSData\n",
    "from analysis import scMSAnalysis\n",
    "from model import scMSModel"
   ]
  },
  {
   "cell_type": "code",
   "execution_count": 2,
   "metadata": {},
   "outputs": [
    {
     "name": "stderr",
     "output_type": "stream",
     "text": [
      "100%|████████████████████████████████████████| 721/721 [00:04<00:00, 160.92it/s]\n"
     ]
    }
   ],
   "source": [
    "scms = scMSData()\n",
    "path = 'vesicle_data'\n",
    "file_paths = scms.getXMLPath(path)\n",
    "scms.loadXMLData()"
   ]
  },
  {
   "cell_type": "code",
   "execution_count": 3,
   "metadata": {
    "collapsed": true
   },
   "outputs": [],
   "source": [
    "types = []\n",
    "for path in file_paths:\n",
    "    if 'Dense-core Vesicle' in path:\n",
    "        types.append('DCV')\n",
    "    else:\n",
    "        types.append('LV')\n",
    "metadata = pd.DataFrame({'types':types},index=scms.names)"
   ]
  },
  {
   "cell_type": "code",
   "execution_count": 6,
   "metadata": {},
   "outputs": [
    {
     "name": "stdout",
     "output_type": "stream",
     "text": [
      "succefully parsed the peak list to imzml!\n",
      "TODO: convert indices into real world coordinates\n",
      "loaded spectra\n",
      "file loaded\n"
     ]
    }
   ],
   "source": [
    "path = 'vesicle_data'\n",
    "scms.convertPeak2imzML(path+'/vesicle')"
   ]
  },
  {
   "cell_type": "code",
   "execution_count": 7,
   "metadata": {},
   "outputs": [
    {
     "name": "stdout",
     "output_type": "stream",
     "text": [
      "number of mass bins 101162\n"
     ]
    },
    {
     "name": "stderr",
     "output_type": "stream",
     "text": [
      "100%|████████████████████████████████| 101162/101162 [00:04<00:00, 21542.01it/s]\n"
     ]
    }
   ],
   "source": [
    "scms.getIntensMtxData(ppm=5, feature_n=0.05, mz_range=(400,1100))"
   ]
  },
  {
   "cell_type": "code",
   "execution_count": 8,
   "metadata": {},
   "outputs": [
    {
     "name": "stdout",
     "output_type": "stream",
     "text": [
      "filtered intensity matrix with shape (717, 2522)\n"
     ]
    }
   ],
   "source": [
    "sc_data = scMSAnalysis()\n",
    "sc_data.preprocessing(scms.intens_mtx,norm_method='rms',feat_drop_rate=0.05,cell_drop_rate=0.05)"
   ]
  },
  {
   "cell_type": "code",
   "execution_count": 23,
   "metadata": {
    "collapsed": true
   },
   "outputs": [],
   "source": [
    "scmodel = scMSModel(sc_data.intens_mtx,metadata)\n",
    "scmodel.get_labels(['types'])"
   ]
  },
  {
   "cell_type": "code",
   "execution_count": 28,
   "metadata": {},
   "outputs": [
    {
     "name": "stdout",
     "output_type": "stream",
     "text": [
      "performing 3 fold cross validation for LR\n",
      "cross validation 0...\n",
      "cross validation 1...\n",
      "cross validation 2...\n",
      "performing 3 fold cross validation for LDA\n",
      "cross validation 0...\n",
      "cross validation 1...\n",
      "cross validation 2...\n",
      "performing 3 fold cross validation for SVM\n",
      "cross validation 0...\n",
      "cross validation 1...\n",
      "cross validation 2...\n",
      "performing 3 fold cross validation for GBT\n",
      "cross validation 0...\n",
      "[21:52:58] WARNING: /opt/concourse/worker/volumes/live/7a2b9f41-3287-451b-6691-43e9a6c0910f/volume/xgboost-split_1619728204606/work/src/learner.cc:1061: Starting in XGBoost 1.3.0, the default evaluation metric used with the objective 'binary:logistic' was changed from 'error' to 'logloss'. Explicitly set eval_metric if you'd like to restore the old behavior.\n",
      "cross validation 1...\n",
      "[21:53:00] WARNING: /opt/concourse/worker/volumes/live/7a2b9f41-3287-451b-6691-43e9a6c0910f/volume/xgboost-split_1619728204606/work/src/learner.cc:1061: Starting in XGBoost 1.3.0, the default evaluation metric used with the objective 'binary:logistic' was changed from 'error' to 'logloss'. Explicitly set eval_metric if you'd like to restore the old behavior.\n",
      "cross validation 2...\n",
      "[21:53:03] WARNING: /opt/concourse/worker/volumes/live/7a2b9f41-3287-451b-6691-43e9a6c0910f/volume/xgboost-split_1619728204606/work/src/learner.cc:1061: Starting in XGBoost 1.3.0, the default evaluation metric used with the objective 'binary:logistic' was changed from 'error' to 'logloss'. Explicitly set eval_metric if you'd like to restore the old behavior.\n",
      "performing 3 fold cross validation for RF\n",
      "cross validation 0...\n",
      "cross validation 1...\n",
      "cross validation 2...\n",
      "performing 3 fold cross validation for DNN\n",
      "cross validation 0...\n",
      "cross validation 1...\n",
      "cross validation 2...\n"
     ]
    }
   ],
   "source": [
    "nn_kwargs = {'layer_shapes':[128,64,1]}\n",
    "scmodel.train_models(k=3, cv=True, shap=False, model_names=['LR','LDA','SVM','GBT','RF','DNN'],\n",
    "                     label_name='types',kwargs=nn_kwargs)"
   ]
  },
  {
   "cell_type": "code",
   "execution_count": 29,
   "metadata": {
    "collapsed": true
   },
   "outputs": [],
   "source": [
    "f1 = []\n",
    "model_names = []\n",
    "for key in scmodel.test_metrics.keys():\n",
    "    f1+=[metric['f1'] for metric in scmodel.test_metrics[key]]\n",
    "    model_names+=[key for metric in scmodel.test_metrics[key]]\n",
    "cv_df = pd.DataFrame({'f1':f1,'model':model_names})"
   ]
  },
  {
   "cell_type": "code",
   "execution_count": 32,
   "metadata": {},
   "outputs": [
    {
     "data": {
      "image/png": "[encoded data removed]",
      "text/plain": [
       "<Figure size 432x288 with 1 Axes>"
      ]
     },
     "metadata": {
      "needs_background": "light"
     },
     "output_type": "display_data"
    }
   ],
   "source": [
    "plt.figure()\n",
    "ax = sns.boxplot(x='model',y='f1',data=cv_df,fliersize=0, whis = 100, linewidth=1.3)\n",
    "sns.stripplot(x='model',y='f1',data=cv_df,\n",
    "              size=6, color=\".3\", linewidth=0)\n",
    "for i,box in enumerate(ax.artists):\n",
    "    box.set_edgecolor('black')\n",
    "    box.set_facecolor('white')\n",
    "plt.savefig('figures/vesicle_model_cv.pdf')\n"
   ]
  },
  {
   "cell_type": "code",
   "execution_count": 34,
   "metadata": {},
   "outputs": [
    {
     "name": "stdout",
     "output_type": "stream",
     "text": [
      "performing 3 fold cross validation for DNN\n",
      "cross validation 0...\n",
      "cross validation 1...\n",
      "cross validation 2...\n",
      "now testing 300 features..\n",
      "performing 3 fold cross validation for DNN\n",
      "cross validation 0...\n",
      "cross validation 1...\n",
      "cross validation 2...\n"
     ]
    },
    {
     "name": "stderr",
     "output_type": "stream",
     "text": [
      "/Users/richard/anaconda/envs/scms/lib/python3.8/site-packages/sklearn/linear_model/_logistic.py:763: ConvergenceWarning: lbfgs failed to converge (status=1):\n",
      "STOP: TOTAL NO. of ITERATIONS REACHED LIMIT.\n",
      "\n",
      "Increase the number of iterations (max_iter) or scale the data as shown in:\n",
      "    https://scikit-learn.org/stable/modules/preprocessing.html\n",
      "Please also refer to the documentation for alternative solver options:\n",
      "    https://scikit-learn.org/stable/modules/linear_model.html#logistic-regression\n",
      "  n_iter_i = _check_optimize_result(\n",
      "/Users/richard/anaconda/envs/scms/lib/python3.8/site-packages/sklearn/linear_model/_logistic.py:763: ConvergenceWarning: lbfgs failed to converge (status=1):\n",
      "STOP: TOTAL NO. of ITERATIONS REACHED LIMIT.\n",
      "\n",
      "Increase the number of iterations (max_iter) or scale the data as shown in:\n",
      "    https://scikit-learn.org/stable/modules/preprocessing.html\n",
      "Please also refer to the documentation for alternative solver options:\n",
      "    https://scikit-learn.org/stable/modules/linear_model.html#logistic-regression\n",
      "  n_iter_i = _check_optimize_result(\n",
      "/Users/richard/anaconda/envs/scms/lib/python3.8/site-packages/sklearn/linear_model/_logistic.py:763: ConvergenceWarning: lbfgs failed to converge (status=1):\n",
      "STOP: TOTAL NO. of ITERATIONS REACHED LIMIT.\n",
      "\n",
      "Increase the number of iterations (max_iter) or scale the data as shown in:\n",
      "    https://scikit-learn.org/stable/modules/preprocessing.html\n",
      "Please also refer to the documentation for alternative solver options:\n",
      "    https://scikit-learn.org/stable/modules/linear_model.html#logistic-regression\n",
      "  n_iter_i = _check_optimize_result(\n",
      "/Users/richard/anaconda/envs/scms/lib/python3.8/site-packages/sklearn/linear_model/_logistic.py:763: ConvergenceWarning: lbfgs failed to converge (status=1):\n",
      "STOP: TOTAL NO. of ITERATIONS REACHED LIMIT.\n",
      "\n",
      "Increase the number of iterations (max_iter) or scale the data as shown in:\n",
      "    https://scikit-learn.org/stable/modules/preprocessing.html\n",
      "Please also refer to the documentation for alternative solver options:\n",
      "    https://scikit-learn.org/stable/modules/linear_model.html#logistic-regression\n",
      "  n_iter_i = _check_optimize_result(\n",
      "/Users/richard/anaconda/envs/scms/lib/python3.8/site-packages/sklearn/linear_model/_logistic.py:763: ConvergenceWarning: lbfgs failed to converge (status=1):\n",
      "STOP: TOTAL NO. of ITERATIONS REACHED LIMIT.\n",
      "\n",
      "Increase the number of iterations (max_iter) or scale the data as shown in:\n",
      "    https://scikit-learn.org/stable/modules/preprocessing.html\n",
      "Please also refer to the documentation for alternative solver options:\n",
      "    https://scikit-learn.org/stable/modules/linear_model.html#logistic-regression\n",
      "  n_iter_i = _check_optimize_result(\n"
     ]
    },
    {
     "name": "stdout",
     "output_type": "stream",
     "text": [
      "now testing 290 features..\n",
      "performing 3 fold cross validation for DNN\n",
      "cross validation 0...\n",
      "cross validation 1...\n",
      "cross validation 2...\n",
      "now testing 280 features..\n",
      "performing 3 fold cross validation for DNN\n",
      "cross validation 0...\n",
      "cross validation 1...\n",
      "cross validation 2...\n",
      "now testing 270 features..\n",
      "performing 3 fold cross validation for DNN\n",
      "cross validation 0...\n",
      "cross validation 1...\n",
      "cross validation 2...\n",
      "now testing 260 features..\n",
      "performing 3 fold cross validation for DNN\n",
      "cross validation 0...\n",
      "cross validation 1...\n",
      "cross validation 2...\n",
      "now testing 250 features..\n",
      "performing 3 fold cross validation for DNN\n",
      "cross validation 0...\n",
      "cross validation 1...\n",
      "cross validation 2...\n",
      "now testing 240 features..\n",
      "performing 3 fold cross validation for DNN\n",
      "cross validation 0...\n",
      "cross validation 1...\n",
      "cross validation 2...\n",
      "now testing 230 features..\n",
      "performing 3 fold cross validation for DNN\n",
      "cross validation 0...\n",
      "cross validation 1...\n",
      "cross validation 2...\n",
      "now testing 220 features..\n",
      "performing 3 fold cross validation for DNN\n",
      "cross validation 0...\n",
      "cross validation 1...\n",
      "cross validation 2...\n",
      "now testing 210 features..\n",
      "performing 3 fold cross validation for DNN\n",
      "cross validation 0...\n",
      "cross validation 1...\n",
      "cross validation 2...\n",
      "now testing 200 features..\n",
      "performing 3 fold cross validation for DNN\n",
      "cross validation 0...\n",
      "cross validation 1...\n",
      "cross validation 2...\n",
      "now testing 190 features..\n",
      "performing 3 fold cross validation for DNN\n",
      "cross validation 0...\n",
      "cross validation 1...\n",
      "cross validation 2...\n",
      "now testing 180 features..\n",
      "performing 3 fold cross validation for DNN\n",
      "cross validation 0...\n",
      "cross validation 1...\n",
      "cross validation 2...\n",
      "now testing 170 features..\n",
      "performing 3 fold cross validation for DNN\n",
      "cross validation 0...\n",
      "cross validation 1...\n",
      "cross validation 2...\n",
      "now testing 160 features..\n",
      "performing 3 fold cross validation for DNN\n",
      "cross validation 0...\n",
      "cross validation 1...\n",
      "cross validation 2...\n",
      "now testing 150 features..\n",
      "performing 3 fold cross validation for DNN\n",
      "cross validation 0...\n",
      "cross validation 1...\n",
      "cross validation 2...\n",
      "now testing 140 features..\n",
      "performing 3 fold cross validation for DNN\n",
      "cross validation 0...\n",
      "cross validation 1...\n",
      "cross validation 2...\n",
      "now testing 130 features..\n",
      "performing 3 fold cross validation for DNN\n",
      "cross validation 0...\n",
      "cross validation 1...\n",
      "cross validation 2...\n",
      "now testing 120 features..\n",
      "performing 3 fold cross validation for DNN\n",
      "cross validation 0...\n",
      "cross validation 1...\n",
      "cross validation 2...\n",
      "now testing 110 features..\n",
      "performing 3 fold cross validation for DNN\n",
      "cross validation 0...\n",
      "cross validation 1...\n",
      "cross validation 2...\n",
      "now testing 100 features..\n",
      "performing 3 fold cross validation for DNN\n",
      "cross validation 0...\n",
      "cross validation 1...\n",
      "cross validation 2...\n",
      "now testing 90 features..\n",
      "performing 3 fold cross validation for DNN\n",
      "cross validation 0...\n",
      "cross validation 1...\n",
      "cross validation 2...\n",
      "now testing 80 features..\n",
      "performing 3 fold cross validation for DNN\n",
      "cross validation 0...\n",
      "cross validation 1...\n",
      "cross validation 2...\n",
      "now testing 70 features..\n",
      "performing 3 fold cross validation for DNN\n",
      "cross validation 0...\n",
      "cross validation 1...\n",
      "cross validation 2...\n",
      "now testing 60 features..\n",
      "performing 3 fold cross validation for DNN\n",
      "cross validation 0...\n",
      "cross validation 1...\n",
      "cross validation 2...\n",
      "now testing 50 features..\n",
      "performing 3 fold cross validation for DNN\n",
      "cross validation 0...\n",
      "cross validation 1...\n",
      "cross validation 2...\n",
      "now testing 40 features..\n",
      "performing 3 fold cross validation for DNN\n",
      "cross validation 0...\n",
      "cross validation 1...\n",
      "cross validation 2...\n",
      "now testing 30 features..\n",
      "performing 3 fold cross validation for DNN\n",
      "cross validation 0...\n",
      "cross validation 1...\n",
      "cross validation 2...\n",
      "now testing 20 features..\n",
      "performing 3 fold cross validation for DNN\n",
      "cross validation 0...\n",
      "cross validation 1...\n",
      "cross validation 2...\n",
      "now testing 10 features..\n",
      "performing 3 fold cross validation for DNN\n",
      "cross validation 0...\n",
      "cross validation 1...\n",
      "cross validation 2...\n"
     ]
    }
   ],
   "source": [
    "train_params={'k':3, 'cv':True, 'shap':True, 'model_names':['DNN'], 'label_name':'types',\n",
    "              'kwargs':nn_kwargs}\n",
    "scmodel.feature_selection(n_eliminate=10, model_name='DNN',kwargs=train_params, max_feat=310, min_feat=10)"
   ]
  },
  {
   "cell_type": "code",
   "execution_count": 37,
   "metadata": {},
   "outputs": [
    {
     "data": {
      "image/png": "[encoded data removed]",
      "text/plain": [
       "<Figure size 432x288 with 1 Axes>"
      ]
     },
     "metadata": {
      "needs_background": "light"
     },
     "output_type": "display_data"
    }
   ],
   "source": [
    "mean_f1 = []\n",
    "std_f1 = []\n",
    "for i in range(len(scmodel.feature_retain_metric)-1):\n",
    "    mean_f1.append(np.mean([metric['f1'] for metric in scmodel.feature_retain_metric[i+1]['DNN']]))\n",
    "    std_f1.append(np.std([metric['f1'] for metric in scmodel.feature_retain_metric[i+1]['DNN']]))\n",
    "    \n",
    "num_feat = [len(feat) for feat in scmodel.feature_retain[1:]]\n",
    "mean_f1 = np.array(mean_f1)\n",
    "std_f1 = np.array(std_f1)\n",
    "\n",
    "fig,axes = plt.subplots(1,1,figsize=(6,4))\n",
    "#std = np.array([np.std(snr) for snr in SNR])\n",
    "plt.plot(num_feat,mean_f1)\n",
    "plt.fill_between(num_feat, mean_f1-std_f1, mean_f1+std_f1,alpha=0.2)\n",
    "plt.xlabel('number of features')\n",
    "plt.ylabel('f1 score')\n",
    "axes.spines['right'].set_visible(False)\n",
    "axes.spines['top'].set_visible(False)\n",
    "plt.gca().invert_xaxis()"
   ]
  },
  {
   "cell_type": "code",
   "execution_count": 38,
   "metadata": {
    "collapsed": true
   },
   "outputs": [],
   "source": [
    "fig.savefig('figures/feat_select_vesicle.pdf')"
   ]
  },
  {
   "cell_type": "code",
   "execution_count": 41,
   "metadata": {},
   "outputs": [
    {
     "name": "stderr",
     "output_type": "stream",
     "text": [
      "Boolean Series key will be reindexed to match DataFrame index.\n",
      "Boolean Series key will be reindexed to match DataFrame index.\n"
     ]
    },
    {
     "data": {
      "image/png": "[encoded data removed]",
      "text/plain": [
       "<Figure size 432x288 with 1 Axes>"
      ]
     },
     "metadata": {
      "needs_background": "light"
     },
     "output_type": "display_data"
    }
   ],
   "source": [
    "plt.stem(scmodel.intens_mtx.columns.astype(float),\n",
    "         scmodel.intens_mtx[scmodel.metadata['types']=='DCV'].mean(0)-scmodel.intens_mtx[scmodel.metadata['types']=='LV'].mean(0),\n",
    "        markerfmt=' ',linefmt='slategray')\n",
    "plt.stem(scmodel.feature_retain[-6].astype(float),\n",
    "         scmodel.intens_mtx.loc[:,scmodel.feature_retain[-6]][scmodel.metadata['types']=='DCV'].mean(0)-scmodel.intens_mtx.loc[:,scmodel.feature_retain[-6]][scmodel.metadata['types']=='LV'].mean(0),\n",
    "        markerfmt=' ',linefmt='r')\n",
    "plt.savefig('figures/selected_feat_vesicle.pdf')\n"
   ]
  },
  {
   "cell_type": "code",
   "execution_count": null,
   "metadata": {
    "collapsed": true
   },
   "outputs": [],
   "source": []
  }
 ],
 "metadata": {
  "interpreter": {
   "hash": "eef45b322bf6d7e039bfa12c8a67a98b967f69b97363199708c99709a6e7ccc5"
  },
  "kernelspec": {
   "display_name": "Python 3",
   "language": "python",
   "name": "python3"
  },
  "language_info": {
   "codemirror_mode": {
    "name": "ipython",
    "version": 3
   },
   "file_extension": ".py",
   "mimetype": "text/x-python",
   "name": "python",
   "nbconvert_exporter": "python",
   "pygments_lexer": "ipython3",
   "version": "3.6.2"
  }
 },
 "nbformat": 4,
 "nbformat_minor": 4
}
